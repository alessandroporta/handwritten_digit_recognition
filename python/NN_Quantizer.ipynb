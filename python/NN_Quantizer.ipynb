{
  "cells": [
    {
      "cell_type": "markdown",
      "metadata": {
        "id": "view-in-github",
        "colab_type": "text"
      },
      "source": [
        "<a href=\"https://colab.research.google.com/github/leonardobove/handwritten_digit_recognition/blob/verilog_hdl/python/NN_Quantizer.ipynb\" target=\"_parent\"><img src=\"https://colab.research.google.com/assets/colab-badge.svg\" alt=\"Open In Colab\"/></a>"
      ]
    },
    {
      "cell_type": "markdown",
      "metadata": {
        "id": "_dHhV3Jk1g00"
      },
      "source": [
        "## Load the Dataset\n",
        "MNIST is a dataset of 70,000 handwritten images. Keras provides a function to directly download the data.\n",
        "<br>The dataset is then split into 60K training images and 10K test images.\n"
      ]
    },
    {
      "cell_type": "code",
      "execution_count": 1,
      "metadata": {
        "colab": {
          "base_uri": "https://localhost:8080/"
        },
        "id": "FlVQWFQz1g04",
        "outputId": "5e95b97e-0984-4b02-c4f9-b0095c6409f8"
      },
      "outputs": [
        {
          "output_type": "stream",
          "name": "stdout",
          "text": [
            "Downloading data from https://storage.googleapis.com/tensorflow/tf-keras-datasets/mnist.npz\n",
            "\u001b[1m11490434/11490434\u001b[0m \u001b[32m━━━━━━━━━━━━━━━━━━━━\u001b[0m\u001b[37m\u001b[0m \u001b[1m0s\u001b[0m 0us/step\n"
          ]
        }
      ],
      "source": [
        "import tensorflow as tf\n",
        "import numpy as np\n",
        "import matplotlib.pyplot as plt\n",
        "(x_train, y_train), (x_test, y_test) = tf.keras.datasets.mnist.load_data() #load and split data"
      ]
    },
    {
      "cell_type": "markdown",
      "metadata": {
        "id": "KH4zIJJf1g05"
      },
      "source": [
        "## Normalize the images\n",
        "The input are 28 pixels by 28 pixels images. They are represented in grayscale, which means each pixel is a single number between 0 and 255. 0 is a black pixel and 255 is a white pixel.\n",
        "<br>Before training, it is a good practice to normalize the data. In our case the min-max scaler is used to get values between 0 and 1."
      ]
    },
    {
      "cell_type": "code",
      "execution_count": 2,
      "metadata": {
        "id": "mbyWnwk41g06"
      },
      "outputs": [],
      "source": [
        "# Convert datasets to float\n",
        "x_train = x_train.astype('float32')\n",
        "x_test  = x_test.astype('float32')\n",
        "\n",
        "# Normalize the pixel data\n",
        "x_train /= 255.0\n",
        "x_test  /= 255.0"
      ]
    },
    {
      "cell_type": "markdown",
      "metadata": {
        "id": "C8vm9a6Z1g07"
      },
      "source": [
        "## Construct the NN model\n",
        "\n",
        "Our NN will have the following structure\n",
        "1. **AveragePooling:** This layer turns a 28x28 image to 14x14. It takes the input image and transforms each 4x4 sub-matrix by replacing it with its average value.\n",
        "2. **Flatten:** This layer converts a 14x14 matrix to a 196x1 1D vector. This conversion is needed for the next layers.\n",
        "3. **Dense layer 1:** In a dense layer (also known as a fully connected layer), the output of each neuron is calculated by a weighted sum of the inputs from all neurons in the preceding layer. This sum is passed through an activation function before being propagated to the next layer.\n",
        "4. **Dense layer 2:** The output layer has 10 neurons: one for each of the possible digit. The neuron with the largest value corresponds to the recognized digit."
      ]
    },
    {
      "cell_type": "code",
      "execution_count": 3,
      "metadata": {
        "colab": {
          "base_uri": "https://localhost:8080/",
          "height": 327
        },
        "id": "AAKDycnQ1g08",
        "outputId": "a7d1c31c-72c6-4082-8f92-40711efb3f45"
      },
      "outputs": [
        {
          "output_type": "stream",
          "name": "stderr",
          "text": [
            "/usr/local/lib/python3.11/dist-packages/keras/src/layers/pooling/base_pooling.py:23: UserWarning: Do not pass an `input_shape`/`input_dim` argument to a layer. When using Sequential models, prefer using an `Input(shape)` object as the first layer in the model instead.\n",
            "  super().__init__(name=name, **kwargs)\n"
          ]
        },
        {
          "output_type": "display_data",
          "data": {
            "text/plain": [
              "\u001b[1mModel: \"sequential\"\u001b[0m\n"
            ],
            "text/html": [
              "<pre style=\"white-space:pre;overflow-x:auto;line-height:normal;font-family:Menlo,'DejaVu Sans Mono',consolas,'Courier New',monospace\"><span style=\"font-weight: bold\">Model: \"sequential\"</span>\n",
              "</pre>\n"
            ]
          },
          "metadata": {}
        },
        {
          "output_type": "display_data",
          "data": {
            "text/plain": [
              "┏━━━━━━━━━━━━━━━━━━━━━━━━━━━━━━━━━━━━━━┳━━━━━━━━━━━━━━━━━━━━━━━━━━━━━┳━━━━━━━━━━━━━━━━━┓\n",
              "┃\u001b[1m \u001b[0m\u001b[1mLayer (type)                        \u001b[0m\u001b[1m \u001b[0m┃\u001b[1m \u001b[0m\u001b[1mOutput Shape               \u001b[0m\u001b[1m \u001b[0m┃\u001b[1m \u001b[0m\u001b[1m        Param #\u001b[0m\u001b[1m \u001b[0m┃\n",
              "┡━━━━━━━━━━━━━━━━━━━━━━━━━━━━━━━━━━━━━━╇━━━━━━━━━━━━━━━━━━━━━━━━━━━━━╇━━━━━━━━━━━━━━━━━┩\n",
              "│ average_pooling2d (\u001b[38;5;33mAveragePooling2D\u001b[0m) │ (\u001b[38;5;45mNone\u001b[0m, \u001b[38;5;34m14\u001b[0m, \u001b[38;5;34m14\u001b[0m, \u001b[38;5;34m1\u001b[0m)           │               \u001b[38;5;34m0\u001b[0m │\n",
              "├──────────────────────────────────────┼─────────────────────────────┼─────────────────┤\n",
              "│ flatten (\u001b[38;5;33mFlatten\u001b[0m)                    │ (\u001b[38;5;45mNone\u001b[0m, \u001b[38;5;34m196\u001b[0m)                 │               \u001b[38;5;34m0\u001b[0m │\n",
              "├──────────────────────────────────────┼─────────────────────────────┼─────────────────┤\n",
              "│ dense (\u001b[38;5;33mDense\u001b[0m)                        │ (\u001b[38;5;45mNone\u001b[0m, \u001b[38;5;34m32\u001b[0m)                  │           \u001b[38;5;34m6,304\u001b[0m │\n",
              "├──────────────────────────────────────┼─────────────────────────────┼─────────────────┤\n",
              "│ dense_1 (\u001b[38;5;33mDense\u001b[0m)                      │ (\u001b[38;5;45mNone\u001b[0m, \u001b[38;5;34m10\u001b[0m)                  │             \u001b[38;5;34m330\u001b[0m │\n",
              "└──────────────────────────────────────┴─────────────────────────────┴─────────────────┘\n"
            ],
            "text/html": [
              "<pre style=\"white-space:pre;overflow-x:auto;line-height:normal;font-family:Menlo,'DejaVu Sans Mono',consolas,'Courier New',monospace\">┏━━━━━━━━━━━━━━━━━━━━━━━━━━━━━━━━━━━━━━┳━━━━━━━━━━━━━━━━━━━━━━━━━━━━━┳━━━━━━━━━━━━━━━━━┓\n",
              "┃<span style=\"font-weight: bold\"> Layer (type)                         </span>┃<span style=\"font-weight: bold\"> Output Shape                </span>┃<span style=\"font-weight: bold\">         Param # </span>┃\n",
              "┡━━━━━━━━━━━━━━━━━━━━━━━━━━━━━━━━━━━━━━╇━━━━━━━━━━━━━━━━━━━━━━━━━━━━━╇━━━━━━━━━━━━━━━━━┩\n",
              "│ average_pooling2d (<span style=\"color: #0087ff; text-decoration-color: #0087ff\">AveragePooling2D</span>) │ (<span style=\"color: #00d7ff; text-decoration-color: #00d7ff\">None</span>, <span style=\"color: #00af00; text-decoration-color: #00af00\">14</span>, <span style=\"color: #00af00; text-decoration-color: #00af00\">14</span>, <span style=\"color: #00af00; text-decoration-color: #00af00\">1</span>)           │               <span style=\"color: #00af00; text-decoration-color: #00af00\">0</span> │\n",
              "├──────────────────────────────────────┼─────────────────────────────┼─────────────────┤\n",
              "│ flatten (<span style=\"color: #0087ff; text-decoration-color: #0087ff\">Flatten</span>)                    │ (<span style=\"color: #00d7ff; text-decoration-color: #00d7ff\">None</span>, <span style=\"color: #00af00; text-decoration-color: #00af00\">196</span>)                 │               <span style=\"color: #00af00; text-decoration-color: #00af00\">0</span> │\n",
              "├──────────────────────────────────────┼─────────────────────────────┼─────────────────┤\n",
              "│ dense (<span style=\"color: #0087ff; text-decoration-color: #0087ff\">Dense</span>)                        │ (<span style=\"color: #00d7ff; text-decoration-color: #00d7ff\">None</span>, <span style=\"color: #00af00; text-decoration-color: #00af00\">32</span>)                  │           <span style=\"color: #00af00; text-decoration-color: #00af00\">6,304</span> │\n",
              "├──────────────────────────────────────┼─────────────────────────────┼─────────────────┤\n",
              "│ dense_1 (<span style=\"color: #0087ff; text-decoration-color: #0087ff\">Dense</span>)                      │ (<span style=\"color: #00d7ff; text-decoration-color: #00d7ff\">None</span>, <span style=\"color: #00af00; text-decoration-color: #00af00\">10</span>)                  │             <span style=\"color: #00af00; text-decoration-color: #00af00\">330</span> │\n",
              "└──────────────────────────────────────┴─────────────────────────────┴─────────────────┘\n",
              "</pre>\n"
            ]
          },
          "metadata": {}
        },
        {
          "output_type": "display_data",
          "data": {
            "text/plain": [
              "\u001b[1m Total params: \u001b[0m\u001b[38;5;34m6,634\u001b[0m (25.91 KB)\n"
            ],
            "text/html": [
              "<pre style=\"white-space:pre;overflow-x:auto;line-height:normal;font-family:Menlo,'DejaVu Sans Mono',consolas,'Courier New',monospace\"><span style=\"font-weight: bold\"> Total params: </span><span style=\"color: #00af00; text-decoration-color: #00af00\">6,634</span> (25.91 KB)\n",
              "</pre>\n"
            ]
          },
          "metadata": {}
        },
        {
          "output_type": "display_data",
          "data": {
            "text/plain": [
              "\u001b[1m Trainable params: \u001b[0m\u001b[38;5;34m6,634\u001b[0m (25.91 KB)\n"
            ],
            "text/html": [
              "<pre style=\"white-space:pre;overflow-x:auto;line-height:normal;font-family:Menlo,'DejaVu Sans Mono',consolas,'Courier New',monospace\"><span style=\"font-weight: bold\"> Trainable params: </span><span style=\"color: #00af00; text-decoration-color: #00af00\">6,634</span> (25.91 KB)\n",
              "</pre>\n"
            ]
          },
          "metadata": {}
        },
        {
          "output_type": "display_data",
          "data": {
            "text/plain": [
              "\u001b[1m Non-trainable params: \u001b[0m\u001b[38;5;34m0\u001b[0m (0.00 B)\n"
            ],
            "text/html": [
              "<pre style=\"white-space:pre;overflow-x:auto;line-height:normal;font-family:Menlo,'DejaVu Sans Mono',consolas,'Courier New',monospace\"><span style=\"font-weight: bold\"> Non-trainable params: </span><span style=\"color: #00af00; text-decoration-color: #00af00\">0</span> (0.00 B)\n",
              "</pre>\n"
            ]
          },
          "metadata": {}
        }
      ],
      "source": [
        "# Importing Keras model and layers\n",
        "from keras.models import Sequential\n",
        "from keras.layers import Dense, Flatten, AveragePooling2D\n",
        "\n",
        "# Construct the NN by stacking all required layers\n",
        "model_s_nn = Sequential() # Sequential: the layers will be connected to one another\n",
        "model_s_nn.add(AveragePooling2D(pool_size=(2, 2), input_shape=(28, 28, 1)))\n",
        "model_s_nn.add(Flatten()) # Flattening the 2D arrays for fully connected layers\n",
        "model_s_nn.add(Dense(32, activation=tf.nn.relu))\n",
        "model_s_nn.add(Dense(10,activation=tf.nn.softmax))\n",
        "model_s_nn.summary() # Print NN summary"
      ]
    },
    {
      "cell_type": "markdown",
      "metadata": {
        "id": "RL54joSa1g0_"
      },
      "source": [
        "## Train the Model\n",
        "\n",
        "The model can now be trained using the training dataset. For each image x_train(i), the model will try to find the associated digit y_train(i). It will gradually adjust the values for the different weights and biases of the dense layers."
      ]
    },
    {
      "cell_type": "code",
      "execution_count": 4,
      "metadata": {
        "colab": {
          "base_uri": "https://localhost:8080/"
        },
        "id": "D8NofiF01g1A",
        "outputId": "334af1f4-e00f-4404-f544-62df68a5a0de"
      },
      "outputs": [
        {
          "output_type": "stream",
          "name": "stdout",
          "text": [
            "Epoch 1/10\n",
            "\u001b[1m1875/1875\u001b[0m \u001b[32m━━━━━━━━━━━━━━━━━━━━\u001b[0m\u001b[37m\u001b[0m \u001b[1m9s\u001b[0m 3ms/step - accuracy: 0.7703 - loss: 0.8562\n",
            "Epoch 2/10\n",
            "\u001b[1m1875/1875\u001b[0m \u001b[32m━━━━━━━━━━━━━━━━━━━━\u001b[0m\u001b[37m\u001b[0m \u001b[1m4s\u001b[0m 2ms/step - accuracy: 0.9215 - loss: 0.2732\n",
            "Epoch 3/10\n",
            "\u001b[1m1875/1875\u001b[0m \u001b[32m━━━━━━━━━━━━━━━━━━━━\u001b[0m\u001b[37m\u001b[0m \u001b[1m6s\u001b[0m 3ms/step - accuracy: 0.9362 - loss: 0.2253\n",
            "Epoch 4/10\n",
            "\u001b[1m1875/1875\u001b[0m \u001b[32m━━━━━━━━━━━━━━━━━━━━\u001b[0m\u001b[37m\u001b[0m \u001b[1m10s\u001b[0m 3ms/step - accuracy: 0.9466 - loss: 0.1920\n",
            "Epoch 5/10\n",
            "\u001b[1m1875/1875\u001b[0m \u001b[32m━━━━━━━━━━━━━━━━━━━━\u001b[0m\u001b[37m\u001b[0m \u001b[1m9s\u001b[0m 5ms/step - accuracy: 0.9523 - loss: 0.1667\n",
            "Epoch 6/10\n",
            "\u001b[1m1875/1875\u001b[0m \u001b[32m━━━━━━━━━━━━━━━━━━━━\u001b[0m\u001b[37m\u001b[0m \u001b[1m6s\u001b[0m 2ms/step - accuracy: 0.9547 - loss: 0.1569\n",
            "Epoch 7/10\n",
            "\u001b[1m1875/1875\u001b[0m \u001b[32m━━━━━━━━━━━━━━━━━━━━\u001b[0m\u001b[37m\u001b[0m \u001b[1m8s\u001b[0m 4ms/step - accuracy: 0.9616 - loss: 0.1348\n",
            "Epoch 8/10\n",
            "\u001b[1m1875/1875\u001b[0m \u001b[32m━━━━━━━━━━━━━━━━━━━━\u001b[0m\u001b[37m\u001b[0m \u001b[1m8s\u001b[0m 3ms/step - accuracy: 0.9626 - loss: 0.1307\n",
            "Epoch 9/10\n",
            "\u001b[1m1875/1875\u001b[0m \u001b[32m━━━━━━━━━━━━━━━━━━━━\u001b[0m\u001b[37m\u001b[0m \u001b[1m6s\u001b[0m 3ms/step - accuracy: 0.9653 - loss: 0.1208\n",
            "Epoch 10/10\n",
            "\u001b[1m1875/1875\u001b[0m \u001b[32m━━━━━━━━━━━━━━━━━━━━\u001b[0m\u001b[37m\u001b[0m \u001b[1m4s\u001b[0m 2ms/step - accuracy: 0.9676 - loss: 0.1128\n"
          ]
        },
        {
          "output_type": "execute_result",
          "data": {
            "text/plain": [
              "<keras.src.callbacks.history.History at 0x7a04de703c90>"
            ]
          },
          "metadata": {},
          "execution_count": 4
        }
      ],
      "source": [
        "# Train the model\n",
        "model_s_nn.compile(optimizer='adam',\n",
        "              loss='sparse_categorical_crossentropy',\n",
        "              metrics=['accuracy']) # Train on accuracy\n",
        "model_s_nn.fit(x=x_train,y=y_train, epochs=10)"
      ]
    },
    {
      "cell_type": "markdown",
      "metadata": {
        "id": "E6hdWkdz1g1A"
      },
      "source": [
        "## Test the model\n",
        "The accuracy of the model on the training set is approx 97%, which is pretty good.\n",
        "<br>To ensure that the model will actually perform well on new data and has not just 'learned' the training set, we need to test it on new data.\n",
        "Note that 'learning' the dataset is known as overfitting."
      ]
    },
    {
      "cell_type": "code",
      "execution_count": 5,
      "metadata": {
        "colab": {
          "base_uri": "https://localhost:8080/"
        },
        "id": "RQV89b7b1g1B",
        "outputId": "39f6eede-e588-45be-87e8-64c318e01a80"
      },
      "outputs": [
        {
          "output_type": "stream",
          "name": "stdout",
          "text": [
            "\u001b[1m313/313\u001b[0m \u001b[32m━━━━━━━━━━━━━━━━━━━━\u001b[0m\u001b[37m\u001b[0m \u001b[1m2s\u001b[0m 4ms/step - accuracy: 0.9573 - loss: 0.1339\n"
          ]
        },
        {
          "output_type": "execute_result",
          "data": {
            "text/plain": [
              "[0.11666417121887207, 0.963100016117096]"
            ]
          },
          "metadata": {},
          "execution_count": 5
        }
      ],
      "source": [
        "# Test the trained model\n",
        "model_s_nn.evaluate(x_test, y_test)"
      ]
    },
    {
      "cell_type": "markdown",
      "metadata": {
        "id": "AaZLoZpk1g1C"
      },
      "source": [
        "As we can see, our model performs well on unseen data. We will now turn the biases and weights to Verilog vectors."
      ]
    },
    {
      "cell_type": "markdown",
      "metadata": {
        "id": "Na0-7ZVb1g1C"
      },
      "source": [
        "## Explore the weights used by the model and Quantize\n",
        "The trained model has a set of weights and biases for each neuron. The output of a neuron is being calculated as: out(n)=Sum(wn(k)*in(k))+b(n).\n",
        "<br>A 5 neurons layer which takes into input a vector of 20 elements has:\n",
        "* 5 biases, one per neuron\n",
        "* 20*5 weights, 20 per neuron\n",
        "<br><br>\n",
        "Those biases and neurons are coded as floats, which would take too much space. We will reduce these to 8 bits so that it can be stored into our board.\n",
        "<br> The verilog arrays generated are indexed as follows:  array_layer[neuron_num][weight_num]\n"
      ]
    },
    {
      "cell_type": "code",
      "execution_count": 6,
      "metadata": {
        "id": "SOYht_T-1g1D"
      },
      "outputs": [],
      "source": [
        "# Define some helper functions that will quantize an array to N bits / print the result\n",
        "\n",
        "# Returns a quantized array\n",
        "# Arguments:\n",
        "# use_scale       If non-zero it will use this instead of auto-computing the scaling factor.\n",
        "# Returns:\n",
        "# out             The quantized data\n",
        "# out_int         The quantized data, but scaled to an int value in the range +/- (2**n_bit-1)-1\n",
        "# scale           The scaling factor used between out and out_int\n",
        "\n",
        "def quantize_nbit(data, n_bit, use_scale=0, verbose=0):\n",
        "    max_bit_val = (2**(n_bit-1))-1\n",
        "    max_val     = np.max(np.abs(data))\n",
        "    if use_scale > 0:\n",
        "        scale = use_scale\n",
        "    else :\n",
        "        scale   = max_bit_val / max_val\n",
        "    if verbose:\n",
        "        print('Quantizing to +/- {}, scaling by {}'.format(max_bit_val, scale))\n",
        "\n",
        "    out_int = np.around(data * scale)\n",
        "    out = out_int /  scale\n",
        "\n",
        "    return out, out_int, scale\n",
        "\n",
        "import IPython.display as dp\n",
        "def print_nowrap(s):\n",
        "    display(dp.HTML(\"<style>.nowrap{white-space:nowrap;}</style><span class='nowrap'>\" +s+ \"</span>\"))"
      ]
    },
    {
      "cell_type": "code",
      "execution_count": 8,
      "metadata": {
        "colab": {
          "base_uri": "https://localhost:8080/",
          "height": 957
        },
        "id": "F-Xj6ezj1g1D",
        "outputId": "ee156bc6-f581-4367-c77b-18021a66189d"
      },
      "outputs": [
        {
          "output_type": "stream",
          "name": "stdout",
          "text": [
            "[<AveragePooling2D name=average_pooling2d, built=True>, <Flatten name=flatten, built=True>, <Dense name=dense, built=True>, <Dense name=dense_1, built=True>]\n",
            "Layer 2 - Array Shape/Range: Weights = (196, 32), Biases = (32,)\n",
            "Quantizing to +/- 127, scaling by 76.61856754959767\n"
          ]
        },
        {
          "output_type": "display_data",
          "data": {
            "text/plain": [
              "<IPython.core.display.HTML object>"
            ],
            "text/html": [
              "<style>.nowrap{white-space:nowrap;}</style><span class='nowrap'>localparam signed B_ARRAY_L2 [8*32-1:0] = { 8'sd(-9), 8'sd(-14), 8'sd(1), 8'sd(7), 8'sd(4), 8'sd(-1), 8'sd(19), 8'sd(13), 8'sd(-12), 8'sd(23), 8'sd(10), 8'sd(-1), 8'sd(-21), 8'sd(-4), 8'sd(31), 8'sd(21), 8'sd(-5), 8'sd(11), 8'sd(3), 8'sd(9), 8'sd(28), 8'sd(17), 8'sd(36), 8'sd(11), 8'sd(3), 8'sd(-1), 8'sd(-1), 8'sd(34), 8'sd(24), 8'sd(-2), 8'sd(13), 8'sd(10) };</span>"
            ]
          },
          "metadata": {}
        },
        {
          "output_type": "display_data",
          "data": {
            "text/plain": [
              "<IPython.core.display.HTML object>"
            ],
            "text/html": [
              "<style>.nowrap{white-space:nowrap;}</style><span class='nowrap'>localparam signed W_ARRAY_L2 [8*32*196-1:0] = {<br>8'sd(-4), 8'sd(9), 8'sd(7), 8'sd(-3), 8'sd(10), 8'sd(8), 8'sd(2), 8'sd(6), 8'sd(11), 8'sd(5), 8'sd(-3), 8'sd(11), 8'sd(3), 8'sd(-3), 8'sd(-7), 8'sd(7), 8'sd(2), 8'sd(13), 8'sd(4), 8'sd(2), 8'sd(-18), 8'sd(-29), 8'sd(-48), 8'sd(-41), 8'sd(-62), 8'sd(-5), 8'sd(-12), 8'sd(-4), 8'sd(-1), 8'sd(-25), 8'sd(-2), 8'sd(-3), 8'sd(8), 8'sd(-3), 8'sd(-9), 8'sd(-13), 8'sd(-3), 8'sd(-16), 8'sd(-12), 8'sd(9), 8'sd(-2), 8'sd(-4), 8'sd(21), 8'sd(4), 8'sd(30), 8'sd(13), 8'sd(11), 8'sd(20), 8'sd(1), 8'sd(3), 8'sd(11), 8'sd(14), 8'sd(14), 8'sd(28), 8'sd(2), 8'sd(-25), 8'sd(57), 8'sd(27), 8'sd(21), 8'sd(16), 8'sd(18), 8'sd(20), 8'sd(34), 8'sd(42), 8'sd(19), 8'sd(17), 8'sd(21), 8'sd(38), 8'sd(-18), 8'sd(9), 8'sd(62), 8'sd(4), 8'sd(14), 8'sd(22), 8'sd(17), 8'sd(36), 8'sd(-14), 8'sd(-27), 8'sd(5), 8'sd(0), 8'sd(-1), 8'sd(-13), 8'sd(-24), 8'sd(39), 8'sd(41), 8'sd(-4), 8'sd(20), 8'sd(26), 8'sd(11), 8'sd(-58), 8'sd(-120), 8'sd(-43), 8'sd(-9), 8'sd(-8), 8'sd(-22), 8'sd(-26), 8'sd(-9), 8'sd(48), 8'sd(25), 8'sd(-24), 8'sd(-33), 8'sd(-41), 8'sd(-85), 8'sd(-70), 8'sd(-16), 8'sd(-32), 8'sd(-32), 8'sd(-26), 8'sd(-23), 8'sd(-37), 8'sd(-49), 8'sd(37), 8'sd(-3), 8'sd(-29), 8'sd(-57), 8'sd(-91), 8'sd(-71), 8'sd(9), 8'sd(21), 8'sd(-16), 8'sd(-34), 8'sd(-35), 8'sd(-50), 8'sd(-31), 8'sd(-10), 8'sd(48), 8'sd(19), 8'sd(-26), 8'sd(-21), 8'sd(-19), 8'sd(8), 8'sd(31), 8'sd(44), 8'sd(5), 8'sd(-15), 8'sd(-18), 8'sd(-10), 8'sd(-2), 8'sd(24), 8'sd(64), 8'sd(28), 8'sd(24), 8'sd(0), 8'sd(6), 8'sd(1), 8'sd(24), 8'sd(35), 8'sd(42), 8'sd(37), 8'sd(31), 8'sd(18), 8'sd(16), 8'sd(18), 8'sd(50), 8'sd(-14), 8'sd(4), 8'sd(4), 8'sd(6), 8'sd(13), 8'sd(15), 8'sd(25), 8'sd(32), 8'sd(28), 8'sd(47), 8'sd(31), 8'sd(45), 8'sd(50), 8'sd(25), 8'sd(-8), 8'sd(-31), 8'sd(-3), 8'sd(14), 8'sd(1), 8'sd(-6), 8'sd(23), 8'sd(29), 8'sd(15), 8'sd(38), 8'sd(9), 8'sd(26), 8'sd(60), 8'sd(20), 8'sd(-8), 8'sd(10), 8'sd(-32), 8'sd(25), 8'sd(61), 8'sd(6), 8'sd(0), 8'sd(18), 8'sd(-7), 8'sd(28), 8'sd(-10), 8'sd(-12), 8'sd(6), 8'sd(6),<br>8'sd(-5), 8'sd(9), 8'sd(-2), 8'sd(35), 8'sd(53), 8'sd(51), 8'sd(47), 8'sd(-24), 8'sd(58), 8'sd(65), 8'sd(46), 8'sd(14), 8'sd(5), 8'sd(5), 8'sd(-3), 8'sd(25), 8'sd(1), 8'sd(13), 8'sd(40), 8'sd(38), 8'sd(23), 8'sd(17), 8'sd(1), 8'sd(-16), 8'sd(-2), 8'sd(37), 8'sd(11), 8'sd(12), 8'sd(-4), 8'sd(-36), 8'sd(5), 8'sd(12), 8'sd(0), 8'sd(3), 8'sd(20), 8'sd(6), 8'sd(17), 8'sd(-6), 8'sd(-4), 8'sd(-22), 8'sd(-29), 8'sd(5), 8'sd(-44), 8'sd(-18), 8'sd(-18), 8'sd(-16), 8'sd(-15), 8'sd(2), 8'sd(3), 8'sd(24), 8'sd(26), 8'sd(-6), 8'sd(-6), 8'sd(3), 8'sd(-8), 8'sd(-20), 8'sd(-7), 8'sd(-10), 8'sd(0), 8'sd(-13), 8'sd(-3), 8'sd(4), 8'sd(-12), 8'sd(-10), 8'sd(1), 8'sd(26), 8'sd(10), 8'sd(23), 8'sd(-1), 8'sd(-29), 8'sd(-15), 8'sd(-25), 8'sd(21), 8'sd(6), 8'sd(-3), 8'sd(-10), 8'sd(-6), 8'sd(-40), 8'sd(-28), 8'sd(26), 8'sd(39), 8'sd(40), 8'sd(-2), 8'sd(-49), 8'sd(-11), 8'sd(2), 8'sd(28), 8'sd(31), 8'sd(6), 8'sd(-7), 8'sd(-27), 8'sd(-27), 8'sd(-21), 8'sd(15), 8'sd(31), 8'sd(68), 8'sd(75), 8'sd(-37), 8'sd(-26), 8'sd(-44), 8'sd(-5), 8'sd(45), 8'sd(32), 8'sd(20), 8'sd(11), 8'sd(8), 8'sd(10), 8'sd(50), 8'sd(51), 8'sd(36), 8'sd(35), 8'sd(51), 8'sd(-22), 8'sd(-54), 8'sd(6), 8'sd(44), 8'sd(65), 8'sd(56), 8'sd(17), 8'sd(24), 8'sd(22), 8'sd(14), 8'sd(18), 8'sd(10), 8'sd(17), 8'sd(30), 8'sd(-3), 8'sd(-48), 8'sd(-16), 8'sd(18), 8'sd(29), 8'sd(39), 8'sd(8), 8'sd(23), 8'sd(12), 8'sd(-2), 8'sd(2), 8'sd(-9), 8'sd(-18), 8'sd(13), 8'sd(19), 8'sd(6), 8'sd(-7), 8'sd(-5), 8'sd(13), 8'sd(11), 8'sd(6), 8'sd(6), 8'sd(-14), 8'sd(-13), 8'sd(-22), 8'sd(-20), 8'sd(-26), 8'sd(17), 8'sd(-15), 8'sd(4), 8'sd(-25), 8'sd(12), 8'sd(12), 8'sd(10), 8'sd(10), 8'sd(-9), 8'sd(-24), 8'sd(-34), 8'sd(-12), 8'sd(11), 8'sd(-5), 8'sd(-48), 8'sd(3), 8'sd(-44), 8'sd(-2), 8'sd(-5), 8'sd(-9), 8'sd(-1), 8'sd(-22), 8'sd(-16), 8'sd(-56), 8'sd(-28), 8'sd(-14), 8'sd(1), 8'sd(-1), 8'sd(-4), 8'sd(-3), 8'sd(19), 8'sd(61), 8'sd(60), 8'sd(56), 8'sd(21), 8'sd(11), 8'sd(29), 8'sd(-44), 8'sd(1), 8'sd(26), 8'sd(-3), 8'sd(25), 8'sd(3),<br>8'sd(11), 8'sd(7), 8'sd(6), 8'sd(-11), 8'sd(5), 8'sd(-10), 8'sd(8), 8'sd(-40), 8'sd(-43), 8'sd(-14), 8'sd(-27), 8'sd(-14), 8'sd(-12), 8'sd(-6), 8'sd(11), 8'sd(-6), 8'sd(27), 8'sd(-5), 8'sd(-11), 8'sd(-9), 8'sd(-7), 8'sd(-9), 8'sd(18), 8'sd(53), 8'sd(52), 8'sd(49), 8'sd(0), 8'sd(28), 8'sd(4), 8'sd(-16), 8'sd(-21), 8'sd(-10), 8'sd(-21), 8'sd(-16), 8'sd(-8), 8'sd(-3), 8'sd(23), 8'sd(25), 8'sd(28), 8'sd(38), 8'sd(51), 8'sd(20), 8'sd(11), 8'sd(-17), 8'sd(-9), 8'sd(-3), 8'sd(3), 8'sd(1), 8'sd(-2), 8'sd(24), 8'sd(27), 8'sd(36), 8'sd(16), 8'sd(9), 8'sd(54), 8'sd(24), 8'sd(-34), 8'sd(-23), 8'sd(-45), 8'sd(-3), 8'sd(3), 8'sd(9), 8'sd(12), 8'sd(-19), 8'sd(1), 8'sd(15), 8'sd(27), 8'sd(10), 8'sd(56), 8'sd(40), 8'sd(-33), 8'sd(-23), 8'sd(-23), 8'sd(-12), 8'sd(-3), 8'sd(9), 8'sd(23), 8'sd(-4), 8'sd(5), 8'sd(-2), 8'sd(-16), 8'sd(-22), 8'sd(59), 8'sd(58), 8'sd(5), 8'sd(-8), 8'sd(2), 8'sd(-16), 8'sd(-21), 8'sd(25), 8'sd(21), 8'sd(20), 8'sd(20), 8'sd(13), 8'sd(-15), 8'sd(-44), 8'sd(-67), 8'sd(-21), 8'sd(30), 8'sd(-12), 8'sd(-6), 8'sd(-22), 8'sd(-15), 8'sd(19), 8'sd(-1), 8'sd(4), 8'sd(25), 8'sd(24), 8'sd(2), 8'sd(-11), 8'sd(-44), 8'sd(-73), 8'sd(1), 8'sd(-20), 8'sd(-8), 8'sd(6), 8'sd(-23), 8'sd(-16), 8'sd(-12), 8'sd(-3), 8'sd(21), 8'sd(18), 8'sd(7), 8'sd(-27), 8'sd(-47), 8'sd(-70), 8'sd(-12), 8'sd(16), 8'sd(15), 8'sd(22), 8'sd(6), 8'sd(13), 8'sd(1), 8'sd(9), 8'sd(6), 8'sd(-16), 8'sd(-25), 8'sd(-39), 8'sd(-40), 8'sd(-39), 8'sd(13), 8'sd(-35), 8'sd(-4), 8'sd(-7), 8'sd(0), 8'sd(4), 8'sd(9), 8'sd(16), 8'sd(-1), 8'sd(-38), 8'sd(-42), 8'sd(-35), 8'sd(-22), 8'sd(-31), 8'sd(-4), 8'sd(5), 8'sd(-23), 8'sd(-19), 8'sd(1), 8'sd(19), 8'sd(29), 8'sd(20), 8'sd(-9), 8'sd(-34), 8'sd(-48), 8'sd(-23), 8'sd(2), 8'sd(14), 8'sd(2), 8'sd(64), 8'sd(72), 8'sd(26), 8'sd(42), 8'sd(54), 8'sd(50), 8'sd(41), 8'sd(9), 8'sd(-4), 8'sd(-7), 8'sd(8), 8'sd(-14), 8'sd(-23), 8'sd(-2), 8'sd(-6), 8'sd(26), 8'sd(-8), 8'sd(-11), 8'sd(41), 8'sd(35), 8'sd(-10), 8'sd(-5), 8'sd(-15), 8'sd(2), 8'sd(22), 8'sd(-1), 8'sd(2),<br>8'sd(-7), 8'sd(4), 8'sd(-1), 8'sd(-20), 8'sd(-31), 8'sd(-52), 8'sd(-61), 8'sd(2), 8'sd(32), 8'sd(-40), 8'sd(-40), 8'sd(-23), 8'sd(-8), 8'sd(8), 8'sd(5), 8'sd(11), 8'sd(-29), 8'sd(-6), 8'sd(-47), 8'sd(-31), 8'sd(11), 8'sd(28), 8'sd(36), 8'sd(27), 8'sd(37), 8'sd(9), 8'sd(-41), 8'sd(-11), 8'sd(0), 8'sd(-24), 8'sd(-12), 8'sd(29), 8'sd(34), 8'sd(41), 8'sd(9), 8'sd(6), 8'sd(28), 8'sd(-2), 8'sd(20), 8'sd(20), 8'sd(-9), 8'sd(-14), 8'sd(-27), 8'sd(-35), 8'sd(8), 8'sd(24), 8'sd(30), 8'sd(2), 8'sd(-39), 8'sd(-66), 8'sd(-2), 8'sd(4), 8'sd(-10), 8'sd(8), 8'sd(3), 8'sd(8), 8'sd(-28), 8'sd(-2), 8'sd(12), 8'sd(8), 8'sd(18), 8'sd(-2), 8'sd(-34), 8'sd(-42), 8'sd(35), 8'sd(9), 8'sd(15), 8'sd(2), 8'sd(24), 8'sd(11), 8'sd(-14), 8'sd(-14), 8'sd(6), 8'sd(-9), 8'sd(27), 8'sd(14), 8'sd(-54), 8'sd(-45), 8'sd(7), 8'sd(-5), 8'sd(-9), 8'sd(-25), 8'sd(-24), 8'sd(19), 8'sd(6), 8'sd(-9), 8'sd(5), 8'sd(-2), 8'sd(-10), 8'sd(29), 8'sd(19), 8'sd(-22), 8'sd(-17), 8'sd(9), 8'sd(13), 8'sd(-12), 8'sd(-32), 8'sd(-24), 8'sd(-16), 8'sd(-2), 8'sd(22), 8'sd(24), 8'sd(8), 8'sd(-8), 8'sd(27), 8'sd(21), 8'sd(12), 8'sd(3), 8'sd(-16), 8'sd(-8), 8'sd(-48), 8'sd(9), 8'sd(-15), 8'sd(22), 8'sd(21), 8'sd(4), 8'sd(-10), 8'sd(-19), 8'sd(17), 8'sd(9), 8'sd(-8), 8'sd(-26), 8'sd(-22), 8'sd(-39), 8'sd(-57), 8'sd(25), 8'sd(-17), 8'sd(22), 8'sd(13), 8'sd(-1), 8'sd(-25), 8'sd(-7), 8'sd(39), 8'sd(-1), 8'sd(-23), 8'sd(-20), 8'sd(-12), 8'sd(-10), 8'sd(-3), 8'sd(45), 8'sd(-18), 8'sd(-4), 8'sd(-17), 8'sd(-28), 8'sd(-43), 8'sd(25), 8'sd(7), 8'sd(-3), 8'sd(13), 8'sd(6), 8'sd(18), 8'sd(18), 8'sd(17), 8'sd(20), 8'sd(-1), 8'sd(14), 8'sd(-24), 8'sd(-49), 8'sd(-38), 8'sd(-14), 8'sd(10), 8'sd(23), 8'sd(22), 8'sd(17), 8'sd(34), 8'sd(34), 8'sd(11), 8'sd(16), 8'sd(0), 8'sd(15), 8'sd(-24), 8'sd(-43), 8'sd(-43), 8'sd(-20), 8'sd(11), 8'sd(42), 8'sd(33), 8'sd(15), 8'sd(-14), 8'sd(-2), 8'sd(9), 8'sd(4), 8'sd(6), 8'sd(-9), 8'sd(-30), 8'sd(-28), 8'sd(-43), 8'sd(-46), 8'sd(-46), 8'sd(-58), 8'sd(-44), 8'sd(-26), 8'sd(-32), 8'sd(-14), 8'sd(-6), 8'sd(6),<br>8'sd(-6), 8'sd(1), 8'sd(10), 8'sd(17), 8'sd(5), 8'sd(8), 8'sd(13), 8'sd(25), 8'sd(53), 8'sd(27), 8'sd(45), 8'sd(14), 8'sd(-4), 8'sd(-6), 8'sd(12), 8'sd(9), 8'sd(10), 8'sd(38), 8'sd(60), 8'sd(77), 8'sd(53), 8'sd(34), 8'sd(6), 8'sd(-12), 8'sd(-29), 8'sd(-9), 8'sd(16), 8'sd(-19), 8'sd(-8), 8'sd(-2), 8'sd(43), 8'sd(21), 8'sd(22), 8'sd(-10), 8'sd(-7), 8'sd(2), 8'sd(17), 8'sd(11), 8'sd(0), 8'sd(-5), 8'sd(-9), 8'sd(5), 8'sd(25), 8'sd(-1), 8'sd(16), 8'sd(-14), 8'sd(-35), 8'sd(-28), 8'sd(-48), 8'sd(8), 8'sd(14), 8'sd(-16), 8'sd(-21), 8'sd(-3), 8'sd(14), 8'sd(-9), 8'sd(36), 8'sd(36), 8'sd(32), 8'sd(-2), 8'sd(-6), 8'sd(-14), 8'sd(-26), 8'sd(9), 8'sd(20), 8'sd(-11), 8'sd(-3), 8'sd(-15), 8'sd(-45), 8'sd(-12), 8'sd(38), 8'sd(19), 8'sd(10), 8'sd(10), 8'sd(11), 8'sd(-33), 8'sd(-39), 8'sd(32), 8'sd(5), 8'sd(-10), 8'sd(11), 8'sd(0), 8'sd(-22), 8'sd(-34), 8'sd(-19), 8'sd(-34), 8'sd(-23), 8'sd(-27), 8'sd(-27), 8'sd(-23), 8'sd(42), 8'sd(29), 8'sd(-16), 8'sd(-29), 8'sd(0), 8'sd(-8), 8'sd(88), 8'sd(38), 8'sd(-19), 8'sd(-1), 8'sd(-20), 8'sd(-27), 8'sd(-10), 8'sd(6), 8'sd(60), 8'sd(44), 8'sd(-14), 8'sd(-20), 8'sd(-30), 8'sd(0), 8'sd(51), 8'sd(65), 8'sd(11), 8'sd(45), 8'sd(-3), 8'sd(14), 8'sd(29), 8'sd(42), 8'sd(34), 8'sd(19), 8'sd(11), 8'sd(6), 8'sd(-10), 8'sd(20), 8'sd(57), 8'sd(50), 8'sd(-21), 8'sd(13), 8'sd(11), 8'sd(17), 8'sd(34), 8'sd(10), 8'sd(-6), 8'sd(10), 8'sd(30), 8'sd(25), 8'sd(21), 8'sd(43), 8'sd(36), 8'sd(57), 8'sd(-19), 8'sd(32), 8'sd(12), 8'sd(23), 8'sd(14), 8'sd(-20), 8'sd(-11), 8'sd(7), 8'sd(26), 8'sd(23), 8'sd(30), 8'sd(-2), 8'sd(-36), 8'sd(35), 8'sd(15), 8'sd(53), 8'sd(28), 8'sd(10), 8'sd(1), 8'sd(3), 8'sd(-8), 8'sd(-3), 8'sd(-9), 8'sd(-2), 8'sd(5), 8'sd(-37), 8'sd(-54), 8'sd(-15), 8'sd(1), 8'sd(-39), 8'sd(-33), 8'sd(-23), 8'sd(-2), 8'sd(-3), 8'sd(-21), 8'sd(-30), 8'sd(-32), 8'sd(-27), 8'sd(-20), 8'sd(-51), 8'sd(-1), 8'sd(8), 8'sd(-5), 8'sd(-13), 8'sd(-38), 8'sd(-38), 8'sd(-58), 8'sd(-62), 8'sd(-99), 8'sd(-117), 8'sd(-100), 8'sd(-54), 8'sd(-93), 8'sd(-50), 8'sd(-13), 8'sd(-7),<br>8'sd(-10), 8'sd(-10), 8'sd(7), 8'sd(37), 8'sd(32), 8'sd(65), 8'sd(49), 8'sd(4), 8'sd(30), 8'sd(58), 8'sd(52), 8'sd(17), 8'sd(6), 8'sd(-10), 8'sd(2), 8'sd(15), 8'sd(37), 8'sd(12), 8'sd(-10), 8'sd(13), 8'sd(7), 8'sd(41), 8'sd(23), 8'sd(28), 8'sd(20), 8'sd(34), 8'sd(-10), 8'sd(2), 8'sd(11), 8'sd(-52), 8'sd(-34), 8'sd(-13), 8'sd(19), 8'sd(-15), 8'sd(-13), 8'sd(2), 8'sd(2), 8'sd(14), 8'sd(5), 8'sd(-16), 8'sd(-15), 8'sd(26), 8'sd(-15), 8'sd(-49), 8'sd(-36), 8'sd(-7), 8'sd(5), 8'sd(2), 8'sd(-6), 8'sd(-12), 8'sd(-13), 8'sd(-21), 8'sd(6), 8'sd(10), 8'sd(4), 8'sd(-9), 8'sd(-26), 8'sd(-29), 8'sd(-11), 8'sd(-5), 8'sd(20), 8'sd(5), 8'sd(-26), 8'sd(-22), 8'sd(-26), 8'sd(-5), 8'sd(7), 8'sd(-19), 8'sd(-30), 8'sd(-18), 8'sd(-17), 8'sd(-54), 8'sd(-41), 8'sd(10), 8'sd(25), 8'sd(8), 8'sd(-29), 8'sd(-38), 8'sd(-20), 8'sd(-7), 8'sd(13), 8'sd(8), 8'sd(-43), 8'sd(-68), 8'sd(-13), 8'sd(-64), 8'sd(-37), 8'sd(15), 8'sd(23), 8'sd(29), 8'sd(-13), 8'sd(-9), 8'sd(13), 8'sd(13), 8'sd(23), 8'sd(32), 8'sd(-17), 8'sd(-82), 8'sd(1), 8'sd(-39), 8'sd(-24), 8'sd(-5), 8'sd(-2), 8'sd(18), 8'sd(15), 8'sd(10), 8'sd(16), 8'sd(4), 8'sd(-19), 8'sd(3), 8'sd(-20), 8'sd(-48), 8'sd(-25), 8'sd(-41), 8'sd(-65), 8'sd(-48), 8'sd(-28), 8'sd(22), 8'sd(24), 8'sd(21), 8'sd(21), 8'sd(-11), 8'sd(-15), 8'sd(-13), 8'sd(7), 8'sd(-61), 8'sd(-33), 8'sd(-47), 8'sd(-75), 8'sd(-84), 8'sd(-22), 8'sd(51), 8'sd(47), 8'sd(3), 8'sd(0), 8'sd(4), 8'sd(-22), 8'sd(-2), 8'sd(-4), 8'sd(-41), 8'sd(15), 8'sd(-53), 8'sd(-69), 8'sd(-82), 8'sd(-29), 8'sd(27), 8'sd(29), 8'sd(33), 8'sd(18), 8'sd(0), 8'sd(-14), 8'sd(-1), 8'sd(-18), 8'sd(6), 8'sd(-20), 8'sd(-19), 8'sd(-39), 8'sd(-48), 8'sd(-32), 8'sd(-29), 8'sd(13), 8'sd(23), 8'sd(21), 8'sd(11), 8'sd(5), 8'sd(-8), 8'sd(-32), 8'sd(-15), 8'sd(4), 8'sd(-36), 8'sd(-21), 8'sd(-45), 8'sd(-46), 8'sd(-14), 8'sd(-25), 8'sd(7), 8'sd(2), 8'sd(8), 8'sd(-2), 8'sd(4), 8'sd(-19), 8'sd(-28), 8'sd(-7), 8'sd(11), 8'sd(16), 8'sd(28), 8'sd(14), 8'sd(-6), 8'sd(6), 8'sd(-12), 8'sd(-5), 8'sd(-1), 8'sd(-27), 8'sd(-29), 8'sd(-1), 8'sd(-1),<br>8'sd(-1), 8'sd(-11), 8'sd(14), 8'sd(7), 8'sd(25), 8'sd(31), 8'sd(32), 8'sd(-1), 8'sd(-33), 8'sd(48), 8'sd(52), 8'sd(15), 8'sd(5), 8'sd(8), 8'sd(8), 8'sd(31), 8'sd(11), 8'sd(28), 8'sd(-19), 8'sd(-18), 8'sd(-46), 8'sd(-46), 8'sd(-15), 8'sd(12), 8'sd(30), 8'sd(21), 8'sd(-11), 8'sd(3), 8'sd(0), 8'sd(5), 8'sd(14), 8'sd(-21), 8'sd(-19), 8'sd(-27), 8'sd(-48), 8'sd(-42), 8'sd(-33), 8'sd(-25), 8'sd(-23), 8'sd(23), 8'sd(-14), 8'sd(-25), 8'sd(-50), 8'sd(-21), 8'sd(5), 8'sd(-36), 8'sd(-11), 8'sd(-28), 8'sd(-27), 8'sd(-2), 8'sd(3), 8'sd(-7), 8'sd(-3), 8'sd(33), 8'sd(10), 8'sd(1), 8'sd(-43), 8'sd(-45), 8'sd(-28), 8'sd(-35), 8'sd(-19), 8'sd(-34), 8'sd(-3), 8'sd(4), 8'sd(11), 8'sd(-21), 8'sd(-12), 8'sd(-26), 8'sd(-31), 8'sd(-38), 8'sd(16), 8'sd(-49), 8'sd(-64), 8'sd(-41), 8'sd(-13), 8'sd(-11), 8'sd(26), 8'sd(13), 8'sd(4), 8'sd(-32), 8'sd(-33), 8'sd(-30), 8'sd(-64), 8'sd(-50), 8'sd(-9), 8'sd(-43), 8'sd(-89), 8'sd(-11), 8'sd(13), 8'sd(41), 8'sd(68), 8'sd(32), 8'sd(16), 8'sd(11), 8'sd(-3), 8'sd(-24), 8'sd(-64), 8'sd(-64), 8'sd(-5), 8'sd(0), 8'sd(-46), 8'sd(-46), 8'sd(25), 8'sd(58), 8'sd(41), 8'sd(13), 8'sd(31), 8'sd(14), 8'sd(-6), 8'sd(-54), 8'sd(-68), 8'sd(-66), 8'sd(16), 8'sd(-34), 8'sd(-40), 8'sd(-48), 8'sd(3), 8'sd(33), 8'sd(9), 8'sd(-3), 8'sd(1), 8'sd(0), 8'sd(-12), 8'sd(-39), 8'sd(-63), 8'sd(-52), 8'sd(-14), 8'sd(-39), 8'sd(-49), 8'sd(-34), 8'sd(-17), 8'sd(1), 8'sd(22), 8'sd(5), 8'sd(-4), 8'sd(-15), 8'sd(-45), 8'sd(-37), 8'sd(-33), 8'sd(-9), 8'sd(14), 8'sd(-14), 8'sd(-23), 8'sd(-31), 8'sd(-34), 8'sd(-18), 8'sd(-3), 8'sd(3), 8'sd(-8), 8'sd(-21), 8'sd(-44), 8'sd(-24), 8'sd(-23), 8'sd(12), 8'sd(21), 8'sd(-36), 8'sd(11), 8'sd(-4), 8'sd(7), 8'sd(-10), 8'sd(-20), 8'sd(-20), 8'sd(-11), 8'sd(13), 8'sd(-16), 8'sd(-11), 8'sd(-7), 8'sd(34), 8'sd(-3), 8'sd(-31), 8'sd(13), 8'sd(-1), 8'sd(9), 8'sd(-12), 8'sd(-19), 8'sd(-7), 8'sd(5), 8'sd(23), 8'sd(0), 8'sd(34), 8'sd(11), 8'sd(-6), 8'sd(-2), 8'sd(17), 8'sd(22), 8'sd(12), 8'sd(-2), 8'sd(0), 8'sd(-20), 8'sd(18), 8'sd(16), 8'sd(-37), 8'sd(-17), 8'sd(-34), 8'sd(5), 8'sd(1),<br>8'sd(-2), 8'sd(11), 8'sd(-6), 8'sd(-18), 8'sd(-14), 8'sd(-43), 8'sd(-35), 8'sd(-31), 8'sd(-45), 8'sd(-26), 8'sd(-24), 8'sd(-20), 8'sd(0), 8'sd(7), 8'sd(12), 8'sd(3), 8'sd(-3), 8'sd(-36), 8'sd(-61), 8'sd(-76), 8'sd(-67), 8'sd(-72), 8'sd(-57), 8'sd(-47), 8'sd(-54), 8'sd(-10), 8'sd(16), 8'sd(0), 8'sd(-1), 8'sd(-33), 8'sd(33), 8'sd(17), 8'sd(10), 8'sd(-16), 8'sd(-9), 8'sd(-15), 8'sd(-21), 8'sd(-13), 8'sd(-9), 8'sd(0), 8'sd(-2), 8'sd(13), 8'sd(-22), 8'sd(16), 8'sd(-3), 8'sd(31), 8'sd(19), 8'sd(-5), 8'sd(-17), 8'sd(-8), 8'sd(8), 8'sd(-19), 8'sd(9), 8'sd(-2), 8'sd(-24), 8'sd(-8), 8'sd(32), 8'sd(18), 8'sd(22), 8'sd(20), 8'sd(1), 8'sd(12), 8'sd(5), 8'sd(17), 8'sd(5), 8'sd(6), 8'sd(-29), 8'sd(-42), 8'sd(-22), 8'sd(13), 8'sd(56), 8'sd(5), 8'sd(23), 8'sd(13), 8'sd(18), 8'sd(24), 8'sd(14), 8'sd(43), 8'sd(44), 8'sd(7), 8'sd(-49), 8'sd(-43), 8'sd(-42), 8'sd(-20), 8'sd(61), 8'sd(52), 8'sd(-4), 8'sd(0), 8'sd(17), 8'sd(18), 8'sd(-11), 8'sd(35), 8'sd(44), 8'sd(14), 8'sd(-24), 8'sd(-10), 8'sd(-46), 8'sd(-52), 8'sd(3), 8'sd(30), 8'sd(3), 8'sd(-30), 8'sd(-24), 8'sd(-17), 8'sd(-1), 8'sd(35), 8'sd(37), 8'sd(2), 8'sd(-35), 8'sd(-12), 8'sd(-31), 8'sd(-49), 8'sd(8), 8'sd(-27), 8'sd(-63), 8'sd(-57), 8'sd(-52), 8'sd(-17), 8'sd(20), 8'sd(44), 8'sd(15), 8'sd(-42), 8'sd(-32), 8'sd(-33), 8'sd(-16), 8'sd(-13), 8'sd(32), 8'sd(-19), 8'sd(-94), 8'sd(-127), 8'sd(-41), 8'sd(17), 8'sd(45), 8'sd(8), 8'sd(-42), 8'sd(-29), 8'sd(-19), 8'sd(-65), 8'sd(-10), 8'sd(36), 8'sd(8), 8'sd(-60), 8'sd(-105), 8'sd(-81), 8'sd(-22), 8'sd(6), 8'sd(7), 8'sd(4), 8'sd(-2), 8'sd(-7), 8'sd(-17), 8'sd(-37), 8'sd(-14), 8'sd(1), 8'sd(6), 8'sd(-58), 8'sd(-50), 8'sd(-31), 8'sd(-16), 8'sd(-12), 8'sd(8), 8'sd(14), 8'sd(13), 8'sd(6), 8'sd(7), 8'sd(-18), 8'sd(14), 8'sd(16), 8'sd(-4), 8'sd(-29), 8'sd(-26), 8'sd(-16), 8'sd(-52), 8'sd(-26), 8'sd(-19), 8'sd(2), 8'sd(-12), 8'sd(9), 8'sd(-1), 8'sd(-14), 8'sd(-22), 8'sd(2), 8'sd(-12), 8'sd(2), 8'sd(-14), 8'sd(33), 8'sd(44), 8'sd(-2), 8'sd(-11), 8'sd(-21), 8'sd(-8), 8'sd(0), 8'sd(-11), 8'sd(-1), 8'sd(-6), 8'sd(-5),<br>8'sd(2), 8'sd(-6), 8'sd(2), 8'sd(-13), 8'sd(-15), 8'sd(-39), 8'sd(-47), 8'sd(-34), 8'sd(24), 8'sd(-41), 8'sd(-35), 8'sd(-24), 8'sd(-8), 8'sd(-7), 8'sd(5), 8'sd(2), 8'sd(-10), 8'sd(12), 8'sd(24), 8'sd(12), 8'sd(-27), 8'sd(-52), 8'sd(-39), 8'sd(-14), 8'sd(-2), 8'sd(2), 8'sd(32), 8'sd(-6), 8'sd(-4), 8'sd(-11), 8'sd(-18), 8'sd(2), 8'sd(9), 8'sd(34), 8'sd(30), 8'sd(15), 8'sd(-17), 8'sd(-21), 8'sd(-7), 8'sd(-19), 8'sd(16), 8'sd(17), 8'sd(-14), 8'sd(38), 8'sd(-16), 8'sd(2), 8'sd(20), 8'sd(26), 8'sd(38), 8'sd(41), 8'sd(21), 8'sd(1), 8'sd(-7), 8'sd(-37), 8'sd(-15), 8'sd(-11), 8'sd(3), 8'sd(21), 8'sd(24), 8'sd(28), 8'sd(24), 8'sd(7), 8'sd(18), 8'sd(30), 8'sd(31), 8'sd(13), 8'sd(-13), 8'sd(-16), 8'sd(-7), 8'sd(43), 8'sd(1), 8'sd(11), 8'sd(45), 8'sd(38), 8'sd(4), 8'sd(18), 8'sd(5), 8'sd(24), 8'sd(18), 8'sd(29), 8'sd(12), 8'sd(-17), 8'sd(20), 8'sd(50), 8'sd(22), 8'sd(5), 8'sd(4), 8'sd(-35), 8'sd(-30), 8'sd(-48), 8'sd(-36), 8'sd(6), 8'sd(23), 8'sd(41), 8'sd(-7), 8'sd(-16), 8'sd(-5), 8'sd(19), 8'sd(-19), 8'sd(3), 8'sd(-69), 8'sd(-57), 8'sd(-54), 8'sd(-15), 8'sd(-6), 8'sd(12), 8'sd(25), 8'sd(3), 8'sd(-46), 8'sd(-37), 8'sd(-41), 8'sd(13), 8'sd(5), 8'sd(0), 8'sd(-69), 8'sd(-35), 8'sd(18), 8'sd(14), 8'sd(3), 8'sd(2), 8'sd(7), 8'sd(-27), 8'sd(-11), 8'sd(-7), 8'sd(-5), 8'sd(22), 8'sd(21), 8'sd(-27), 8'sd(-67), 8'sd(2), 8'sd(26), 8'sd(26), 8'sd(8), 8'sd(10), 8'sd(-3), 8'sd(-12), 8'sd(-10), 8'sd(-4), 8'sd(12), 8'sd(39), 8'sd(-9), 8'sd(-2), 8'sd(-27), 8'sd(3), 8'sd(9), 8'sd(-5), 8'sd(-4), 8'sd(-16), 8'sd(-14), 8'sd(-26), 8'sd(-4), 8'sd(-1), 8'sd(11), 8'sd(-30), 8'sd(-15), 8'sd(-18), 8'sd(-30), 8'sd(1), 8'sd(4), 8'sd(4), 8'sd(2), 8'sd(-9), 8'sd(-13), 8'sd(-6), 8'sd(3), 8'sd(31), 8'sd(10), 8'sd(-35), 8'sd(2), 8'sd(-33), 8'sd(14), 8'sd(16), 8'sd(9), 8'sd(-3), 8'sd(7), 8'sd(22), 8'sd(18), 8'sd(29), 8'sd(17), 8'sd(-6), 8'sd(-3), 8'sd(-5), 8'sd(7), 8'sd(26), 8'sd(26), 8'sd(71), 8'sd(105), 8'sd(75), 8'sd(72), 8'sd(76), 8'sd(64), 8'sd(59), 8'sd(77), 8'sd(51), 8'sd(-7), 8'sd(2),<br>8'sd(-4), 8'sd(-8), 8'sd(1), 8'sd(3), 8'sd(14), 8'sd(3), 8'sd(-15), 8'sd(5), 8'sd(37), 8'sd(-42), 8'sd(-30), 8'sd(-4), 8'sd(-7), 8'sd(8), 8'sd(-6), 8'sd(7), 8'sd(-2), 8'sd(-18), 8'sd(8), 8'sd(-10), 8'sd(6), 8'sd(-11), 8'sd(8), 8'sd(-20), 8'sd(-55), 8'sd(-46), 8'sd(-40), 8'sd(14), 8'sd(-11), 8'sd(-24), 8'sd(-38), 8'sd(-51), 8'sd(-38), 8'sd(-15), 8'sd(-20), 8'sd(-24), 8'sd(-46), 8'sd(-96), 8'sd(-75), 8'sd(-64), 8'sd(-47), 8'sd(-10), 8'sd(19), 8'sd(-23), 8'sd(-29), 8'sd(-10), 8'sd(-42), 8'sd(-29), 8'sd(-25), 8'sd(-19), 8'sd(-23), 8'sd(-28), 8'sd(-17), 8'sd(8), 8'sd(-7), 8'sd(11), 8'sd(50), 8'sd(10), 8'sd(-38), 8'sd(-33), 8'sd(-38), 8'sd(-8), 8'sd(2), 8'sd(23), 8'sd(56), 8'sd(59), 8'sd(53), 8'sd(52), 8'sd(52), 8'sd(15), 8'sd(16), 8'sd(20), 8'sd(-58), 8'sd(-4), 8'sd(-2), 8'sd(11), 8'sd(25), 8'sd(19), 8'sd(9), 8'sd(18), 8'sd(34), 8'sd(59), 8'sd(77), 8'sd(64), 8'sd(-8), 8'sd(-13), 8'sd(-24), 8'sd(-12), 8'sd(17), 8'sd(29), 8'sd(26), 8'sd(-9), 8'sd(-37), 8'sd(-58), 8'sd(-59), 8'sd(-43), 8'sd(12), 8'sd(71), 8'sd(5), 8'sd(-39), 8'sd(6), 8'sd(0), 8'sd(16), 8'sd(27), 8'sd(1), 8'sd(-4), 8'sd(6), 8'sd(-12), 8'sd(-42), 8'sd(-51), 8'sd(-3), 8'sd(29), 8'sd(-13), 8'sd(-14), 8'sd(27), 8'sd(28), 8'sd(17), 8'sd(15), 8'sd(-4), 8'sd(3), 8'sd(10), 8'sd(-12), 8'sd(-26), 8'sd(-23), 8'sd(4), 8'sd(28), 8'sd(41), 8'sd(-48), 8'sd(2), 8'sd(22), 8'sd(33), 8'sd(18), 8'sd(4), 8'sd(-1), 8'sd(-5), 8'sd(11), 8'sd(-12), 8'sd(13), 8'sd(5), 8'sd(-20), 8'sd(11), 8'sd(-39), 8'sd(-8), 8'sd(-15), 8'sd(-16), 8'sd(-19), 8'sd(-18), 8'sd(-25), 8'sd(-12), 8'sd(-2), 8'sd(26), 8'sd(1), 8'sd(41), 8'sd(-2), 8'sd(-3), 8'sd(11), 8'sd(12), 8'sd(-4), 8'sd(-7), 8'sd(-9), 8'sd(-8), 8'sd(-18), 8'sd(-17), 8'sd(-22), 8'sd(-6), 8'sd(30), 8'sd(61), 8'sd(6), 8'sd(7), 8'sd(13), 8'sd(-17), 8'sd(-68), 8'sd(-28), 8'sd(-1), 8'sd(-26), 8'sd(-8), 8'sd(4), 8'sd(8), 8'sd(9), 8'sd(20), 8'sd(35), 8'sd(-11), 8'sd(-11), 8'sd(-2), 8'sd(-20), 8'sd(-47), 8'sd(-52), 8'sd(-3), 8'sd(6), 8'sd(-4), 8'sd(20), 8'sd(6), 8'sd(15), 8'sd(21), 8'sd(-6), 8'sd(3),<br>8'sd(1), 8'sd(-1), 8'sd(-6), 8'sd(-19), 8'sd(-22), 8'sd(-15), 8'sd(-30), 8'sd(-5), 8'sd(-35), 8'sd(-25), 8'sd(-29), 8'sd(2), 8'sd(10), 8'sd(-3), 8'sd(8), 8'sd(6), 8'sd(-15), 8'sd(-51), 8'sd(-57), 8'sd(-64), 8'sd(-75), 8'sd(-45), 8'sd(-11), 8'sd(21), 8'sd(-8), 8'sd(-12), 8'sd(-6), 8'sd(-3), 8'sd(23), 8'sd(24), 8'sd(19), 8'sd(8), 8'sd(-17), 8'sd(0), 8'sd(10), 8'sd(-3), 8'sd(33), 8'sd(29), 8'sd(9), 8'sd(5), 8'sd(12), 8'sd(3), 8'sd(18), 8'sd(1), 8'sd(21), 8'sd(11), 8'sd(13), 8'sd(2), 8'sd(11), 8'sd(-5), 8'sd(8), 8'sd(-17), 8'sd(-4), 8'sd(-7), 8'sd(-18), 8'sd(-5), 8'sd(-39), 8'sd(37), 8'sd(38), 8'sd(27), 8'sd(10), 8'sd(-9), 8'sd(-2), 8'sd(-15), 8'sd(15), 8'sd(16), 8'sd(10), 8'sd(12), 8'sd(-7), 8'sd(-15), 8'sd(-26), 8'sd(44), 8'sd(-8), 8'sd(6), 8'sd(-16), 8'sd(-17), 8'sd(-18), 8'sd(1), 8'sd(20), 8'sd(9), 8'sd(-2), 8'sd(-2), 8'sd(-34), 8'sd(-29), 8'sd(-28), 8'sd(2), 8'sd(-4), 8'sd(20), 8'sd(9), 8'sd(36), 8'sd(31), 8'sd(31), 8'sd(27), 8'sd(-12), 8'sd(-1), 8'sd(-5), 8'sd(-8), 8'sd(3), 8'sd(14), 8'sd(15), 8'sd(-16), 8'sd(-8), 8'sd(14), 8'sd(19), 8'sd(49), 8'sd(57), 8'sd(21), 8'sd(-13), 8'sd(3), 8'sd(9), 8'sd(-15), 8'sd(-7), 8'sd(35), 8'sd(3), 8'sd(-53), 8'sd(-44), 8'sd(-29), 8'sd(-43), 8'sd(32), 8'sd(44), 8'sd(5), 8'sd(-32), 8'sd(-12), 8'sd(-2), 8'sd(9), 8'sd(-35), 8'sd(-34), 8'sd(6), 8'sd(-23), 8'sd(-28), 8'sd(-68), 8'sd(-59), 8'sd(-63), 8'sd(-27), 8'sd(-13), 8'sd(-14), 8'sd(-8), 8'sd(-3), 8'sd(-45), 8'sd(-6), 8'sd(18), 8'sd(20), 8'sd(10), 8'sd(5), 8'sd(-20), 8'sd(-27), 8'sd(-44), 8'sd(4), 8'sd(-1), 8'sd(1), 8'sd(6), 8'sd(12), 8'sd(-37), 8'sd(-9), 8'sd(-3), 8'sd(48), 8'sd(17), 8'sd(15), 8'sd(16), 8'sd(10), 8'sd(8), 8'sd(17), 8'sd(11), 8'sd(9), 8'sd(12), 8'sd(-1), 8'sd(-36), 8'sd(22), 8'sd(-10), 8'sd(40), 8'sd(42), 8'sd(44), 8'sd(32), 8'sd(27), 8'sd(3), 8'sd(8), 8'sd(-22), 8'sd(-15), 8'sd(-3), 8'sd(-25), 8'sd(-60), 8'sd(-2), 8'sd(-1), 8'sd(-12), 8'sd(8), 8'sd(25), 8'sd(45), 8'sd(16), 8'sd(-2), 8'sd(-7), 8'sd(1), 8'sd(-48), 8'sd(-53), 8'sd(-22), 8'sd(-9), 8'sd(-6),<br>8'sd(9), 8'sd(9), 8'sd(-7), 8'sd(7), 8'sd(-16), 8'sd(-23), 8'sd(-21), 8'sd(19), 8'sd(18), 8'sd(-19), 8'sd(-24), 8'sd(-11), 8'sd(2), 8'sd(3), 8'sd(4), 8'sd(-18), 8'sd(-17), 8'sd(4), 8'sd(17), 8'sd(38), 8'sd(60), 8'sd(67), 8'sd(50), 8'sd(5), 8'sd(-31), 8'sd(-30), 8'sd(-31), 8'sd(-21), 8'sd(-3), 8'sd(-11), 8'sd(0), 8'sd(-14), 8'sd(5), 8'sd(-12), 8'sd(-3), 8'sd(39), 8'sd(51), 8'sd(45), 8'sd(10), 8'sd(-10), 8'sd(-68), 8'sd(-50), 8'sd(50), 8'sd(32), 8'sd(-13), 8'sd(-24), 8'sd(-4), 8'sd(5), 8'sd(19), 8'sd(16), 8'sd(44), 8'sd(46), 8'sd(25), 8'sd(3), 8'sd(-59), 8'sd(-39), 8'sd(62), 8'sd(17), 8'sd(-10), 8'sd(12), 8'sd(17), 8'sd(6), 8'sd(-45), 8'sd(-42), 8'sd(57), 8'sd(48), 8'sd(22), 8'sd(11), 8'sd(-115), 8'sd(-69), 8'sd(19), 8'sd(-22), 8'sd(-30), 8'sd(-37), 8'sd(-50), 8'sd(-48), 8'sd(-72), 8'sd(-63), 8'sd(39), 8'sd(38), 8'sd(35), 8'sd(-3), 8'sd(-85), 8'sd(-43), 8'sd(7), 8'sd(-40), 8'sd(-50), 8'sd(-26), 8'sd(-6), 8'sd(1), 8'sd(-20), 8'sd(-30), 8'sd(-4), 8'sd(14), 8'sd(-2), 8'sd(-31), 8'sd(-30), 8'sd(-14), 8'sd(14), 8'sd(14), 8'sd(6), 8'sd(38), 8'sd(10), 8'sd(-1), 8'sd(-8), 8'sd(-16), 8'sd(16), 8'sd(-12), 8'sd(-20), 8'sd(-26), 8'sd(-16), 8'sd(15), 8'sd(41), 8'sd(16), 8'sd(25), 8'sd(-8), 8'sd(-7), 8'sd(4), 8'sd(-13), 8'sd(-24), 8'sd(-5), 8'sd(-21), 8'sd(-32), 8'sd(-11), 8'sd(-7), 8'sd(34), 8'sd(21), 8'sd(11), 8'sd(4), 8'sd(-5), 8'sd(28), 8'sd(15), 8'sd(17), 8'sd(-5), 8'sd(16), 8'sd(8), 8'sd(-22), 8'sd(-3), 8'sd(-3), 8'sd(51), 8'sd(34), 8'sd(36), 8'sd(5), 8'sd(14), 8'sd(11), 8'sd(23), 8'sd(10), 8'sd(-11), 8'sd(-6), 8'sd(1), 8'sd(6), 8'sd(5), 8'sd(2), 8'sd(38), 8'sd(6), 8'sd(8), 8'sd(17), 8'sd(22), 8'sd(4), 8'sd(9), 8'sd(0), 8'sd(-1), 8'sd(-4), 8'sd(6), 8'sd(-11), 8'sd(6), 8'sd(2), 8'sd(-3), 8'sd(0), 8'sd(24), 8'sd(29), 8'sd(2), 8'sd(10), 8'sd(25), 8'sd(22), 8'sd(7), 8'sd(-3), 8'sd(-32), 8'sd(-33), 8'sd(-26), 8'sd(-8), 8'sd(-5), 8'sd(8), 8'sd(-20), 8'sd(-23), 8'sd(0), 8'sd(20), 8'sd(13), 8'sd(-2), 8'sd(38), 8'sd(45), 8'sd(-17), 8'sd(-24), 8'sd(-8), 8'sd(-8), 8'sd(-3),<br>8'sd(2), 8'sd(10), 8'sd(-1), 8'sd(5), 8'sd(28), 8'sd(29), 8'sd(20), 8'sd(6), 8'sd(28), 8'sd(19), 8'sd(14), 8'sd(15), 8'sd(2), 8'sd(10), 8'sd(0), 8'sd(10), 8'sd(-17), 8'sd(-3), 8'sd(40), 8'sd(28), 8'sd(2), 8'sd(-4), 8'sd(6), 8'sd(16), 8'sd(16), 8'sd(28), 8'sd(35), 8'sd(26), 8'sd(-4), 8'sd(-25), 8'sd(-67), 8'sd(-15), 8'sd(-25), 8'sd(21), 8'sd(30), 8'sd(35), 8'sd(46), 8'sd(39), 8'sd(14), 8'sd(-4), 8'sd(10), 8'sd(50), 8'sd(-23), 8'sd(-47), 8'sd(-27), 8'sd(-17), 8'sd(10), 8'sd(19), 8'sd(29), 8'sd(43), 8'sd(26), 8'sd(-1), 8'sd(10), 8'sd(11), 8'sd(13), 8'sd(-14), 8'sd(-11), 8'sd(-21), 8'sd(-6), 8'sd(2), 8'sd(22), 8'sd(12), 8'sd(5), 8'sd(-29), 8'sd(-15), 8'sd(0), 8'sd(-7), 8'sd(-3), 8'sd(20), 8'sd(14), 8'sd(-35), 8'sd(-27), 8'sd(-13), 8'sd(26), 8'sd(22), 8'sd(-9), 8'sd(-26), 8'sd(-38), 8'sd(-3), 8'sd(8), 8'sd(-13), 8'sd(-18), 8'sd(28), 8'sd(13), 8'sd(-32), 8'sd(3), 8'sd(-13), 8'sd(-1), 8'sd(3), 8'sd(-1), 8'sd(13), 8'sd(0), 8'sd(-13), 8'sd(-3), 8'sd(-9), 8'sd(-28), 8'sd(10), 8'sd(31), 8'sd(-18), 8'sd(-37), 8'sd(-27), 8'sd(-12), 8'sd(-3), 8'sd(14), 8'sd(6), 8'sd(-9), 8'sd(-22), 8'sd(-23), 8'sd(-13), 8'sd(-24), 8'sd(19), 8'sd(20), 8'sd(-40), 8'sd(22), 8'sd(-15), 8'sd(-10), 8'sd(-18), 8'sd(21), 8'sd(13), 8'sd(-30), 8'sd(-15), 8'sd(-18), 8'sd(-9), 8'sd(-4), 8'sd(4), 8'sd(-5), 8'sd(-14), 8'sd(-14), 8'sd(16), 8'sd(13), 8'sd(-5), 8'sd(-7), 8'sd(-31), 8'sd(-45), 8'sd(8), 8'sd(6), 8'sd(7), 8'sd(8), 8'sd(4), 8'sd(-19), 8'sd(11), 8'sd(4), 8'sd(32), 8'sd(13), 8'sd(-7), 8'sd(-7), 8'sd(-10), 8'sd(15), 8'sd(6), 8'sd(23), 8'sd(32), 8'sd(30), 8'sd(-7), 8'sd(-3), 8'sd(-18), 8'sd(18), 8'sd(-13), 8'sd(22), 8'sd(23), 8'sd(42), 8'sd(54), 8'sd(42), 8'sd(48), 8'sd(15), 8'sd(31), 8'sd(61), 8'sd(14), 8'sd(-28), 8'sd(-11), 8'sd(-6), 8'sd(-22), 8'sd(0), 8'sd(31), 8'sd(27), 8'sd(35), 8'sd(56), 8'sd(41), 8'sd(45), 8'sd(20), 8'sd(30), 8'sd(42), 8'sd(3), 8'sd(9), 8'sd(4), 8'sd(4), 8'sd(-15), 8'sd(-32), 8'sd(17), 8'sd(18), 8'sd(-16), 8'sd(-19), 8'sd(-2), 8'sd(9), 8'sd(5), 8'sd(10), 8'sd(-2),<br>8'sd(12), 8'sd(2), 8'sd(-8), 8'sd(-36), 8'sd(-30), 8'sd(-24), 8'sd(-14), 8'sd(-6), 8'sd(-71), 8'sd(-52), 8'sd(-42), 8'sd(-23), 8'sd(-12), 8'sd(5), 8'sd(2), 8'sd(-42), 8'sd(-47), 8'sd(-41), 8'sd(-77), 8'sd(-64), 8'sd(-69), 8'sd(-44), 8'sd(-35), 8'sd(-65), 8'sd(-30), 8'sd(-5), 8'sd(-16), 8'sd(-27), 8'sd(-11), 8'sd(8), 8'sd(2), 8'sd(10), 8'sd(-19), 8'sd(-19), 8'sd(5), 8'sd(4), 8'sd(0), 8'sd(13), 8'sd(22), 8'sd(15), 8'sd(-12), 8'sd(-33), 8'sd(13), 8'sd(40), 8'sd(50), 8'sd(12), 8'sd(-10), 8'sd(-14), 8'sd(-23), 8'sd(-24), 8'sd(-33), 8'sd(-1), 8'sd(-4), 8'sd(52), 8'sd(24), 8'sd(1), 8'sd(35), 8'sd(42), 8'sd(17), 8'sd(5), 8'sd(10), 8'sd(-14), 8'sd(3), 8'sd(-7), 8'sd(1), 8'sd(33), 8'sd(40), 8'sd(46), 8'sd(18), 8'sd(4), 8'sd(54), 8'sd(18), 8'sd(-20), 8'sd(-13), 8'sd(5), 8'sd(19), 8'sd(24), 8'sd(-3), 8'sd(1), 8'sd(15), 8'sd(11), 8'sd(25), 8'sd(-29), 8'sd(-30), 8'sd(37), 8'sd(-9), 8'sd(-28), 8'sd(12), 8'sd(33), 8'sd(32), 8'sd(1), 8'sd(-22), 8'sd(-2), 8'sd(-10), 8'sd(1), 8'sd(9), 8'sd(26), 8'sd(-27), 8'sd(-4), 8'sd(3), 8'sd(6), 8'sd(22), 8'sd(34), 8'sd(10), 8'sd(-24), 8'sd(0), 8'sd(24), 8'sd(28), 8'sd(-7), 8'sd(11), 8'sd(1), 8'sd(5), 8'sd(0), 8'sd(-20), 8'sd(-6), 8'sd(53), 8'sd(48), 8'sd(-20), 8'sd(-11), 8'sd(37), 8'sd(27), 8'sd(7), 8'sd(23), 8'sd(17), 8'sd(-7), 8'sd(-8), 8'sd(-29), 8'sd(3), 8'sd(7), 8'sd(24), 8'sd(27), 8'sd(-48), 8'sd(-26), 8'sd(13), 8'sd(2), 8'sd(-14), 8'sd(-5), 8'sd(1), 8'sd(-5), 8'sd(2), 8'sd(19), 8'sd(16), 8'sd(3), 8'sd(15), 8'sd(1), 8'sd(-37), 8'sd(-15), 8'sd(-3), 8'sd(-5), 8'sd(-1), 8'sd(-5), 8'sd(-19), 8'sd(-54), 8'sd(9), 8'sd(-8), 8'sd(-46), 8'sd(-3), 8'sd(35), 8'sd(9), 8'sd(8), 8'sd(-3), 8'sd(3), 8'sd(11), 8'sd(22), 8'sd(8), 8'sd(-2), 8'sd(-47), 8'sd(-17), 8'sd(11), 8'sd(-34), 8'sd(-25), 8'sd(-25), 8'sd(-18), 8'sd(2), 8'sd(-1), 8'sd(-8), 8'sd(-12), 8'sd(-20), 8'sd(-22), 8'sd(-33), 8'sd(-54), 8'sd(3), 8'sd(8), 8'sd(-15), 8'sd(-27), 8'sd(-42), 8'sd(-45), 8'sd(-52), 8'sd(-55), 8'sd(-73), 8'sd(-59), 8'sd(-75), 8'sd(-87), 8'sd(-32), 8'sd(-25), 8'sd(-1),<br>8'sd(-12), 8'sd(0), 8'sd(0), 8'sd(-5), 8'sd(-6), 8'sd(-24), 8'sd(-15), 8'sd(11), 8'sd(-18), 8'sd(26), 8'sd(30), 8'sd(1), 8'sd(12), 8'sd(3), 8'sd(5), 8'sd(-14), 8'sd(-10), 8'sd(-7), 8'sd(16), 8'sd(-17), 8'sd(3), 8'sd(3), 8'sd(-13), 8'sd(-19), 8'sd(4), 8'sd(1), 8'sd(-1), 8'sd(-17), 8'sd(8), 8'sd(12), 8'sd(-21), 8'sd(-40), 8'sd(-46), 8'sd(-36), 8'sd(-18), 8'sd(-17), 8'sd(-3), 8'sd(10), 8'sd(14), 8'sd(21), 8'sd(13), 8'sd(-7), 8'sd(-26), 8'sd(-23), 8'sd(-68), 8'sd(-71), 8'sd(-69), 8'sd(-41), 8'sd(-11), 8'sd(12), 8'sd(0), 8'sd(18), 8'sd(37), 8'sd(11), 8'sd(22), 8'sd(32), 8'sd(-38), 8'sd(-53), 8'sd(-52), 8'sd(-53), 8'sd(-54), 8'sd(-4), 8'sd(25), 8'sd(12), 8'sd(-20), 8'sd(-7), 8'sd(-5), 8'sd(-11), 8'sd(22), 8'sd(-3), 8'sd(-43), 8'sd(-39), 8'sd(-26), 8'sd(-38), 8'sd(-11), 8'sd(33), 8'sd(12), 8'sd(-1), 8'sd(-30), 8'sd(-44), 8'sd(-30), 8'sd(-46), 8'sd(-32), 8'sd(-33), 8'sd(-17), 8'sd(-11), 8'sd(8), 8'sd(9), 8'sd(5), 8'sd(2), 8'sd(-7), 8'sd(24), 8'sd(0), 8'sd(-13), 8'sd(5), 8'sd(-48), 8'sd(-50), 8'sd(-19), 8'sd(-17), 8'sd(40), 8'sd(17), 8'sd(27), 8'sd(17), 8'sd(-6), 8'sd(17), 8'sd(25), 8'sd(24), 8'sd(-31), 8'sd(-43), 8'sd(-39), 8'sd(-8), 8'sd(65), 8'sd(-22), 8'sd(32), 8'sd(7), 8'sd(33), 8'sd(29), 8'sd(22), 8'sd(17), 8'sd(41), 8'sd(-21), 8'sd(-39), 8'sd(-16), 8'sd(-24), 8'sd(-5), 8'sd(94), 8'sd(-20), 8'sd(4), 8'sd(-20), 8'sd(-3), 8'sd(24), 8'sd(4), 8'sd(15), 8'sd(18), 8'sd(-12), 8'sd(-5), 8'sd(9), 8'sd(16), 8'sd(65), 8'sd(61), 8'sd(-5), 8'sd(-17), 8'sd(10), 8'sd(-10), 8'sd(-5), 8'sd(-11), 8'sd(-23), 8'sd(11), 8'sd(45), 8'sd(45), 8'sd(53), 8'sd(29), 8'sd(62), 8'sd(1), 8'sd(22), 8'sd(-10), 8'sd(32), 8'sd(-4), 8'sd(-7), 8'sd(-5), 8'sd(-11), 8'sd(-13), 8'sd(15), 8'sd(51), 8'sd(53), 8'sd(36), 8'sd(-5), 8'sd(-2), 8'sd(3), 8'sd(-48), 8'sd(-59), 8'sd(-28), 8'sd(-17), 8'sd(-21), 8'sd(-26), 8'sd(-32), 8'sd(-50), 8'sd(-26), 8'sd(19), 8'sd(27), 8'sd(8), 8'sd(23), 8'sd(7), 8'sd(10), 8'sd(10), 8'sd(27), 8'sd(9), 8'sd(13), 8'sd(33), 8'sd(7), 8'sd(-2), 8'sd(-53), 8'sd(-8), 8'sd(-13), 8'sd(5), 8'sd(12),<br>8'sd(9), 8'sd(6), 8'sd(-2), 8'sd(29), 8'sd(31), 8'sd(-8), 8'sd(1), 8'sd(-38), 8'sd(2), 8'sd(62), 8'sd(63), 8'sd(37), 8'sd(-7), 8'sd(-9), 8'sd(-11), 8'sd(-13), 8'sd(20), 8'sd(44), 8'sd(44), 8'sd(42), 8'sd(11), 8'sd(-2), 8'sd(20), 8'sd(11), 8'sd(4), 8'sd(17), 8'sd(-2), 8'sd(-8), 8'sd(6), 8'sd(-24), 8'sd(7), 8'sd(-1), 8'sd(21), 8'sd(2), 8'sd(-6), 8'sd(-37), 8'sd(-10), 8'sd(-4), 8'sd(-13), 8'sd(-32), 8'sd(-17), 8'sd(-12), 8'sd(-29), 8'sd(14), 8'sd(20), 8'sd(22), 8'sd(24), 8'sd(2), 8'sd(2), 8'sd(11), 8'sd(1), 8'sd(-33), 8'sd(-27), 8'sd(-32), 8'sd(9), 8'sd(-8), 8'sd(-11), 8'sd(3), 8'sd(38), 8'sd(3), 8'sd(-10), 8'sd(-14), 8'sd(-21), 8'sd(-2), 8'sd(-15), 8'sd(-37), 8'sd(-7), 8'sd(-7), 8'sd(-23), 8'sd(-2), 8'sd(-36), 8'sd(7), 8'sd(11), 8'sd(10), 8'sd(2), 8'sd(-19), 8'sd(-44), 8'sd(-45), 8'sd(-7), 8'sd(4), 8'sd(9), 8'sd(1), 8'sd(-36), 8'sd(-58), 8'sd(-4), 8'sd(-16), 8'sd(11), 8'sd(11), 8'sd(3), 8'sd(-13), 8'sd(-23), 8'sd(-2), 8'sd(7), 8'sd(10), 8'sd(25), 8'sd(21), 8'sd(23), 8'sd(-6), 8'sd(-31), 8'sd(23), 8'sd(-5), 8'sd(18), 8'sd(6), 8'sd(27), 8'sd(35), 8'sd(22), 8'sd(35), 8'sd(43), 8'sd(44), 8'sd(19), 8'sd(-12), 8'sd(74), 8'sd(-12), 8'sd(6), 8'sd(-5), 8'sd(28), 8'sd(13), 8'sd(28), 8'sd(29), 8'sd(23), 8'sd(44), 8'sd(32), 8'sd(27), 8'sd(5), 8'sd(-6), 8'sd(42), 8'sd(-42), 8'sd(5), 8'sd(18), 8'sd(14), 8'sd(-15), 8'sd(-9), 8'sd(-4), 8'sd(18), 8'sd(35), 8'sd(10), 8'sd(3), 8'sd(-16), 8'sd(-5), 8'sd(55), 8'sd(-9), 8'sd(27), 8'sd(-8), 8'sd(-7), 8'sd(-21), 8'sd(-17), 8'sd(-5), 8'sd(16), 8'sd(-1), 8'sd(-10), 8'sd(-47), 8'sd(-40), 8'sd(-3), 8'sd(-16), 8'sd(-2), 8'sd(4), 8'sd(-29), 8'sd(-23), 8'sd(-11), 8'sd(7), 8'sd(-16), 8'sd(-21), 8'sd(-47), 8'sd(-59), 8'sd(-15), 8'sd(-22), 8'sd(-2), 8'sd(-29), 8'sd(7), 8'sd(-30), 8'sd(-16), 8'sd(16), 8'sd(24), 8'sd(17), 8'sd(-15), 8'sd(22), 8'sd(-19), 8'sd(-36), 8'sd(16), 8'sd(-12), 8'sd(-10), 8'sd(13), 8'sd(8), 8'sd(14), 8'sd(52), 8'sd(57), 8'sd(45), 8'sd(30), 8'sd(25), 8'sd(39), 8'sd(-7), 8'sd(-21), 8'sd(6), 8'sd(-12), 8'sd(10), 8'sd(-5),<br>8'sd(10), 8'sd(6), 8'sd(10), 8'sd(7), 8'sd(20), 8'sd(23), 8'sd(35), 8'sd(23), 8'sd(38), 8'sd(47), 8'sd(34), 8'sd(7), 8'sd(-9), 8'sd(6), 8'sd(0), 8'sd(20), 8'sd(-7), 8'sd(12), 8'sd(-9), 8'sd(-23), 8'sd(-35), 8'sd(-25), 8'sd(23), 8'sd(59), 8'sd(46), 8'sd(65), 8'sd(17), 8'sd(20), 8'sd(6), 8'sd(-17), 8'sd(-38), 8'sd(-45), 8'sd(-33), 8'sd(-44), 8'sd(-48), 8'sd(-25), 8'sd(18), 8'sd(41), 8'sd(19), 8'sd(1), 8'sd(26), 8'sd(47), 8'sd(-21), 8'sd(-14), 8'sd(-32), 8'sd(-36), 8'sd(-22), 8'sd(-3), 8'sd(-8), 8'sd(7), 8'sd(30), 8'sd(53), 8'sd(46), 8'sd(37), 8'sd(19), 8'sd(6), 8'sd(-18), 8'sd(-8), 8'sd(-33), 8'sd(-25), 8'sd(-18), 8'sd(7), 8'sd(40), 8'sd(20), 8'sd(10), 8'sd(6), 8'sd(14), 8'sd(6), 8'sd(29), 8'sd(-6), 8'sd(-6), 8'sd(-15), 8'sd(-31), 8'sd(2), 8'sd(-6), 8'sd(10), 8'sd(22), 8'sd(-11), 8'sd(-45), 8'sd(-35), 8'sd(-30), 8'sd(-5), 8'sd(33), 8'sd(1), 8'sd(33), 8'sd(6), 8'sd(-41), 8'sd(-3), 8'sd(-7), 8'sd(2), 8'sd(19), 8'sd(-18), 8'sd(-23), 8'sd(-26), 8'sd(-38), 8'sd(1), 8'sd(9), 8'sd(5), 8'sd(23), 8'sd(-47), 8'sd(-15), 8'sd(-4), 8'sd(9), 8'sd(6), 8'sd(13), 8'sd(-11), 8'sd(-18), 8'sd(-22), 8'sd(-16), 8'sd(-33), 8'sd(5), 8'sd(-46), 8'sd(-16), 8'sd(-20), 8'sd(-22), 8'sd(-5), 8'sd(29), 8'sd(6), 8'sd(-19), 8'sd(-16), 8'sd(4), 8'sd(-17), 8'sd(-1), 8'sd(-23), 8'sd(-33), 8'sd(-38), 8'sd(30), 8'sd(-54), 8'sd(2), 8'sd(13), 8'sd(26), 8'sd(-6), 8'sd(-51), 8'sd(-13), 8'sd(3), 8'sd(-5), 8'sd(-6), 8'sd(-19), 8'sd(-31), 8'sd(-20), 8'sd(3), 8'sd(-40), 8'sd(0), 8'sd(26), 8'sd(23), 8'sd(25), 8'sd(9), 8'sd(-14), 8'sd(-5), 8'sd(4), 8'sd(-1), 8'sd(-13), 8'sd(-28), 8'sd(-23), 8'sd(-9), 8'sd(2), 8'sd(-1), 8'sd(12), 8'sd(20), 8'sd(29), 8'sd(37), 8'sd(17), 8'sd(3), 8'sd(-10), 8'sd(-22), 8'sd(-2), 8'sd(6), 8'sd(-27), 8'sd(-3), 8'sd(-10), 8'sd(-22), 8'sd(3), 8'sd(23), 8'sd(38), 8'sd(46), 8'sd(48), 8'sd(38), 8'sd(39), 8'sd(8), 8'sd(-2), 8'sd(-13), 8'sd(-18), 8'sd(5), 8'sd(4), 8'sd(-28), 8'sd(-35), 8'sd(-22), 8'sd(6), 8'sd(44), 8'sd(-12), 8'sd(21), 8'sd(3), 8'sd(-4), 8'sd(31), 8'sd(9), 8'sd(12),<br>8'sd(8), 8'sd(-4), 8'sd(-10), 8'sd(-31), 8'sd(-28), 8'sd(-35), 8'sd(-30), 8'sd(-25), 8'sd(-38), 8'sd(-26), 8'sd(-22), 8'sd(-30), 8'sd(-9), 8'sd(4), 8'sd(0), 8'sd(-23), 8'sd(-43), 8'sd(-39), 8'sd(-77), 8'sd(-101), 8'sd(-99), 8'sd(-71), 8'sd(-35), 8'sd(3), 8'sd(-1), 8'sd(-13), 8'sd(8), 8'sd(4), 8'sd(-11), 8'sd(-56), 8'sd(-42), 8'sd(-24), 8'sd(-27), 8'sd(-23), 8'sd(-14), 8'sd(-12), 8'sd(-6), 8'sd(-5), 8'sd(-1), 8'sd(9), 8'sd(32), 8'sd(10), 8'sd(-6), 8'sd(5), 8'sd(-3), 8'sd(11), 8'sd(11), 8'sd(8), 8'sd(0), 8'sd(2), 8'sd(23), 8'sd(26), 8'sd(22), 8'sd(21), 8'sd(31), 8'sd(30), 8'sd(18), 8'sd(-1), 8'sd(23), 8'sd(35), 8'sd(42), 8'sd(16), 8'sd(-6), 8'sd(-5), 8'sd(7), 8'sd(24), 8'sd(9), 8'sd(16), 8'sd(82), 8'sd(82), 8'sd(21), 8'sd(4), 8'sd(38), 8'sd(59), 8'sd(40), 8'sd(39), 8'sd(28), 8'sd(-26), 8'sd(-32), 8'sd(2), 8'sd(5), 8'sd(22), 8'sd(56), 8'sd(93), 8'sd(51), 8'sd(26), 8'sd(54), 8'sd(40), 8'sd(31), 8'sd(41), 8'sd(4), 8'sd(-2), 8'sd(-14), 8'sd(-1), 8'sd(30), 8'sd(-6), 8'sd(-3), 8'sd(53), 8'sd(31), 8'sd(1), 8'sd(-18), 8'sd(-17), 8'sd(11), 8'sd(21), 8'sd(14), 8'sd(2), 8'sd(-2), 8'sd(-2), 8'sd(-8), 8'sd(1), 8'sd(-18), 8'sd(-54), 8'sd(-35), 8'sd(-4), 8'sd(-45), 8'sd(-34), 8'sd(-23), 8'sd(-11), 8'sd(24), 8'sd(13), 8'sd(6), 8'sd(-16), 8'sd(-13), 8'sd(5), 8'sd(-4), 8'sd(-36), 8'sd(26), 8'sd(-37), 8'sd(-11), 8'sd(-19), 8'sd(-35), 8'sd(-27), 8'sd(-12), 8'sd(4), 8'sd(-11), 8'sd(-30), 8'sd(-14), 8'sd(0), 8'sd(4), 8'sd(-20), 8'sd(-21), 8'sd(-84), 8'sd(-10), 8'sd(-3), 8'sd(-12), 8'sd(-31), 8'sd(7), 8'sd(-12), 8'sd(-12), 8'sd(-16), 8'sd(-8), 8'sd(21), 8'sd(14), 8'sd(-54), 8'sd(-15), 8'sd(-42), 8'sd(-14), 8'sd(19), 8'sd(9), 8'sd(10), 8'sd(-6), 8'sd(2), 8'sd(-6), 8'sd(-24), 8'sd(1), 8'sd(8), 8'sd(30), 8'sd(14), 8'sd(-12), 8'sd(18), 8'sd(-4), 8'sd(-19), 8'sd(11), 8'sd(28), 8'sd(30), 8'sd(38), 8'sd(16), 8'sd(9), 8'sd(4), 8'sd(18), 8'sd(-20), 8'sd(-26), 8'sd(-12), 8'sd(-3), 8'sd(-55), 8'sd(-30), 8'sd(7), 8'sd(15), 8'sd(32), 8'sd(16), 8'sd(27), 8'sd(18), 8'sd(-2), 8'sd(20), 8'sd(-20), 8'sd(-6),<br>8'sd(6), 8'sd(-2), 8'sd(7), 8'sd(12), 8'sd(8), 8'sd(34), 8'sd(27), 8'sd(39), 8'sd(39), 8'sd(31), 8'sd(34), 8'sd(17), 8'sd(-4), 8'sd(-4), 8'sd(12), 8'sd(15), 8'sd(4), 8'sd(-3), 8'sd(-6), 8'sd(-34), 8'sd(-1), 8'sd(-2), 8'sd(27), 8'sd(-16), 8'sd(-18), 8'sd(-18), 8'sd(11), 8'sd(-30), 8'sd(3), 8'sd(7), 8'sd(-49), 8'sd(-31), 8'sd(-31), 8'sd(-27), 8'sd(-4), 8'sd(7), 8'sd(8), 8'sd(12), 8'sd(33), 8'sd(-10), 8'sd(-24), 8'sd(24), 8'sd(-33), 8'sd(-29), 8'sd(-94), 8'sd(-56), 8'sd(-35), 8'sd(-8), 8'sd(4), 8'sd(14), 8'sd(21), 8'sd(26), 8'sd(16), 8'sd(6), 8'sd(-13), 8'sd(-40), 8'sd(-33), 8'sd(-35), 8'sd(-57), 8'sd(-2), 8'sd(2), 8'sd(4), 8'sd(8), 8'sd(34), 8'sd(24), 8'sd(8), 8'sd(14), 8'sd(3), 8'sd(0), 8'sd(-6), 8'sd(-17), 8'sd(-33), 8'sd(-7), 8'sd(17), 8'sd(9), 8'sd(-6), 8'sd(3), 8'sd(27), 8'sd(10), 8'sd(12), 8'sd(23), 8'sd(36), 8'sd(24), 8'sd(11), 8'sd(-39), 8'sd(-9), 8'sd(26), 8'sd(16), 8'sd(-1), 8'sd(-46), 8'sd(2), 8'sd(32), 8'sd(-9), 8'sd(9), 8'sd(18), 8'sd(54), 8'sd(17), 8'sd(-7), 8'sd(-33), 8'sd(-10), 8'sd(7), 8'sd(-6), 8'sd(-7), 8'sd(-8), 8'sd(42), 8'sd(10), 8'sd(-18), 8'sd(-14), 8'sd(-17), 8'sd(-22), 8'sd(-9), 8'sd(-9), 8'sd(31), 8'sd(-13), 8'sd(12), 8'sd(9), 8'sd(16), 8'sd(24), 8'sd(11), 8'sd(-17), 8'sd(-30), 8'sd(-28), 8'sd(-44), 8'sd(-29), 8'sd(-16), 8'sd(-23), 8'sd(6), 8'sd(-40), 8'sd(-12), 8'sd(10), 8'sd(22), 8'sd(19), 8'sd(-6), 8'sd(-9), 8'sd(-15), 8'sd(-7), 8'sd(-11), 8'sd(22), 8'sd(27), 8'sd(-18), 8'sd(23), 8'sd(-2), 8'sd(34), 8'sd(45), 8'sd(30), 8'sd(0), 8'sd(3), 8'sd(14), 8'sd(17), 8'sd(17), 8'sd(2), 8'sd(19), 8'sd(42), 8'sd(3), 8'sd(22), 8'sd(-7), 8'sd(5), 8'sd(23), 8'sd(24), 8'sd(8), 8'sd(14), 8'sd(7), 8'sd(3), 8'sd(-23), 8'sd(-15), 8'sd(14), 8'sd(26), 8'sd(-13), 8'sd(-1), 8'sd(-18), 8'sd(-40), 8'sd(-25), 8'sd(2), 8'sd(2), 8'sd(0), 8'sd(-4), 8'sd(13), 8'sd(10), 8'sd(14), 8'sd(10), 8'sd(16), 8'sd(-7), 8'sd(-6), 8'sd(25), 8'sd(30), 8'sd(27), 8'sd(18), 8'sd(22), 8'sd(18), 8'sd(31), 8'sd(20), 8'sd(26), 8'sd(30), 8'sd(-1), 8'sd(24), 8'sd(7),<br>8'sd(-1), 8'sd(-10), 8'sd(8), 8'sd(27), 8'sd(8), 8'sd(25), 8'sd(9), 8'sd(-8), 8'sd(24), 8'sd(29), 8'sd(47), 8'sd(31), 8'sd(-12), 8'sd(3), 8'sd(-3), 8'sd(28), 8'sd(20), 8'sd(-1), 8'sd(27), 8'sd(9), 8'sd(-18), 8'sd(-22), 8'sd(10), 8'sd(27), 8'sd(2), 8'sd(8), 8'sd(14), 8'sd(17), 8'sd(-9), 8'sd(11), 8'sd(-17), 8'sd(-20), 8'sd(-12), 8'sd(18), 8'sd(17), 8'sd(-9), 8'sd(12), 8'sd(17), 8'sd(3), 8'sd(-2), 8'sd(8), 8'sd(13), 8'sd(-33), 8'sd(-31), 8'sd(-29), 8'sd(-9), 8'sd(20), 8'sd(23), 8'sd(17), 8'sd(9), 8'sd(12), 8'sd(19), 8'sd(10), 8'sd(9), 8'sd(29), 8'sd(39), 8'sd(-16), 8'sd(-51), 8'sd(-11), 8'sd(4), 8'sd(-3), 8'sd(10), 8'sd(-14), 8'sd(-40), 8'sd(-52), 8'sd(-30), 8'sd(-21), 8'sd(-14), 8'sd(-30), 8'sd(6), 8'sd(-46), 8'sd(-49), 8'sd(4), 8'sd(8), 8'sd(-3), 8'sd(8), 8'sd(-26), 8'sd(-37), 8'sd(-7), 8'sd(-19), 8'sd(-48), 8'sd(-81), 8'sd(-50), 8'sd(14), 8'sd(-25), 8'sd(-29), 8'sd(-24), 8'sd(-16), 8'sd(7), 8'sd(18), 8'sd(11), 8'sd(6), 8'sd(6), 8'sd(23), 8'sd(13), 8'sd(-28), 8'sd(-34), 8'sd(42), 8'sd(-25), 8'sd(22), 8'sd(-4), 8'sd(11), 8'sd(-1), 8'sd(1), 8'sd(-10), 8'sd(5), 8'sd(23), 8'sd(7), 8'sd(-9), 8'sd(-15), 8'sd(11), 8'sd(49), 8'sd(-33), 8'sd(35), 8'sd(-7), 8'sd(-1), 8'sd(-16), 8'sd(-24), 8'sd(-4), 8'sd(24), 8'sd(35), 8'sd(28), 8'sd(14), 8'sd(7), 8'sd(42), 8'sd(31), 8'sd(-28), 8'sd(32), 8'sd(19), 8'sd(1), 8'sd(3), 8'sd(-5), 8'sd(-10), 8'sd(18), 8'sd(21), 8'sd(13), 8'sd(8), 8'sd(9), 8'sd(41), 8'sd(35), 8'sd(-6), 8'sd(38), 8'sd(33), 8'sd(17), 8'sd(23), 8'sd(-2), 8'sd(-1), 8'sd(5), 8'sd(0), 8'sd(13), 8'sd(18), 8'sd(27), 8'sd(36), 8'sd(-19), 8'sd(-1), 8'sd(31), 8'sd(22), 8'sd(2), 8'sd(11), 8'sd(7), 8'sd(-13), 8'sd(-15), 8'sd(-8), 8'sd(11), 8'sd(14), 8'sd(23), 8'sd(50), 8'sd(13), 8'sd(11), 8'sd(-21), 8'sd(-27), 8'sd(11), 8'sd(5), 8'sd(-13), 8'sd(-16), 8'sd(-14), 8'sd(4), 8'sd(23), 8'sd(46), 8'sd(68), 8'sd(55), 8'sd(-8), 8'sd(8), 8'sd(0), 8'sd(-19), 8'sd(-15), 8'sd(-15), 8'sd(15), 8'sd(-6), 8'sd(17), 8'sd(-11), 8'sd(-38), 8'sd(23), 8'sd(16), 8'sd(-1), 8'sd(-8),<br>8'sd(-1), 8'sd(2), 8'sd(-4), 8'sd(-23), 8'sd(-28), 8'sd(-36), 8'sd(-45), 8'sd(-39), 8'sd(-43), 8'sd(-45), 8'sd(-41), 8'sd(-23), 8'sd(-12), 8'sd(-10), 8'sd(-5), 8'sd(-30), 8'sd(9), 8'sd(-35), 8'sd(-69), 8'sd(-35), 8'sd(-51), 8'sd(-39), 8'sd(-6), 8'sd(12), 8'sd(23), 8'sd(-14), 8'sd(1), 8'sd(-8), 8'sd(0), 8'sd(13), 8'sd(-15), 8'sd(-31), 8'sd(-61), 8'sd(-26), 8'sd(-7), 8'sd(0), 8'sd(10), 8'sd(11), 8'sd(29), 8'sd(22), 8'sd(34), 8'sd(-11), 8'sd(-29), 8'sd(-15), 8'sd(-21), 8'sd(-37), 8'sd(-27), 8'sd(-2), 8'sd(20), 8'sd(24), 8'sd(22), 8'sd(32), 8'sd(30), 8'sd(19), 8'sd(24), 8'sd(25), 8'sd(-53), 8'sd(-12), 8'sd(-22), 8'sd(-26), 8'sd(-2), 8'sd(2), 8'sd(8), 8'sd(13), 8'sd(22), 8'sd(22), 8'sd(8), 8'sd(14), 8'sd(38), 8'sd(29), 8'sd(-62), 8'sd(-37), 8'sd(-15), 8'sd(-15), 8'sd(7), 8'sd(-8), 8'sd(-10), 8'sd(-5), 8'sd(22), 8'sd(8), 8'sd(-26), 8'sd(-13), 8'sd(37), 8'sd(16), 8'sd(-32), 8'sd(-14), 8'sd(-5), 8'sd(5), 8'sd(-5), 8'sd(4), 8'sd(22), 8'sd(38), 8'sd(32), 8'sd(19), 8'sd(-16), 8'sd(-31), 8'sd(-54), 8'sd(-16), 8'sd(-11), 8'sd(-2), 8'sd(12), 8'sd(-2), 8'sd(3), 8'sd(-5), 8'sd(19), 8'sd(16), 8'sd(23), 8'sd(-8), 8'sd(-23), 8'sd(-32), 8'sd(-41), 8'sd(-38), 8'sd(14), 8'sd(-15), 8'sd(-10), 8'sd(-2), 8'sd(-2), 8'sd(-1), 8'sd(14), 8'sd(19), 8'sd(23), 8'sd(6), 8'sd(-17), 8'sd(-49), 8'sd(-54), 8'sd(-43), 8'sd(-21), 8'sd(19), 8'sd(25), 8'sd(-1), 8'sd(-7), 8'sd(-3), 8'sd(2), 8'sd(32), 8'sd(16), 8'sd(5), 8'sd(-16), 8'sd(-88), 8'sd(-89), 8'sd(-2), 8'sd(-9), 8'sd(1), 8'sd(12), 8'sd(-1), 8'sd(-7), 8'sd(-18), 8'sd(-20), 8'sd(2), 8'sd(6), 8'sd(-1), 8'sd(-39), 8'sd(-69), 8'sd(-68), 8'sd(-22), 8'sd(8), 8'sd(13), 8'sd(1), 8'sd(-10), 8'sd(3), 8'sd(27), 8'sd(9), 8'sd(-5), 8'sd(-7), 8'sd(-5), 8'sd(17), 8'sd(-14), 8'sd(-24), 8'sd(-4), 8'sd(-10), 8'sd(63), 8'sd(44), 8'sd(46), 8'sd(37), 8'sd(29), 8'sd(17), 8'sd(4), 8'sd(1), 8'sd(14), 8'sd(48), 8'sd(43), 8'sd(-27), 8'sd(-17), 8'sd(10), 8'sd(12), 8'sd(45), 8'sd(23), 8'sd(-1), 8'sd(22), 8'sd(20), 8'sd(4), 8'sd(-10), 8'sd(-31), 8'sd(19), 8'sd(0), 8'sd(35), 8'sd(7),<br>8'sd(5), 8'sd(-1), 8'sd(4), 8'sd(27), 8'sd(41), 8'sd(54), 8'sd(71), 8'sd(26), 8'sd(23), 8'sd(61), 8'sd(43), 8'sd(36), 8'sd(-7), 8'sd(10), 8'sd(9), 8'sd(37), 8'sd(55), 8'sd(38), 8'sd(46), 8'sd(50), 8'sd(56), 8'sd(70), 8'sd(38), 8'sd(55), 8'sd(44), 8'sd(14), 8'sd(-21), 8'sd(-23), 8'sd(-2), 8'sd(34), 8'sd(57), 8'sd(26), 8'sd(30), 8'sd(13), 8'sd(12), 8'sd(18), 8'sd(29), 8'sd(25), 8'sd(27), 8'sd(24), 8'sd(9), 8'sd(44), 8'sd(15), 8'sd(-6), 8'sd(28), 8'sd(6), 8'sd(6), 8'sd(-18), 8'sd(-21), 8'sd(-10), 8'sd(-31), 8'sd(-14), 8'sd(-9), 8'sd(9), 8'sd(35), 8'sd(24), 8'sd(-36), 8'sd(-15), 8'sd(15), 8'sd(8), 8'sd(-4), 8'sd(-6), 8'sd(2), 8'sd(-14), 8'sd(-34), 8'sd(-27), 8'sd(-19), 8'sd(-9), 8'sd(-33), 8'sd(20), 8'sd(-36), 8'sd(6), 8'sd(9), 8'sd(-4), 8'sd(-20), 8'sd(-1), 8'sd(38), 8'sd(23), 8'sd(-9), 8'sd(-5), 8'sd(-12), 8'sd(-23), 8'sd(-6), 8'sd(24), 8'sd(-55), 8'sd(-30), 8'sd(-23), 8'sd(-34), 8'sd(1), 8'sd(-2), 8'sd(34), 8'sd(29), 8'sd(25), 8'sd(6), 8'sd(-29), 8'sd(-5), 8'sd(-43), 8'sd(-10), 8'sd(4), 8'sd(7), 8'sd(-48), 8'sd(-9), 8'sd(-12), 8'sd(-33), 8'sd(14), 8'sd(48), 8'sd(7), 8'sd(-13), 8'sd(-19), 8'sd(-6), 8'sd(12), 8'sd(-23), 8'sd(38), 8'sd(57), 8'sd(-5), 8'sd(-20), 8'sd(-34), 8'sd(-44), 8'sd(19), 8'sd(10), 8'sd(-27), 8'sd(4), 8'sd(15), 8'sd(26), 8'sd(16), 8'sd(-24), 8'sd(-35), 8'sd(45), 8'sd(28), 8'sd(5), 8'sd(-7), 8'sd(-31), 8'sd(-5), 8'sd(8), 8'sd(32), 8'sd(13), 8'sd(18), 8'sd(10), 8'sd(-14), 8'sd(-11), 8'sd(18), 8'sd(30), 8'sd(-4), 8'sd(29), 8'sd(32), 8'sd(33), 8'sd(30), 8'sd(43), 8'sd(40), 8'sd(62), 8'sd(36), 8'sd(21), 8'sd(-12), 8'sd(6), 8'sd(6), 8'sd(42), 8'sd(2), 8'sd(-18), 8'sd(-2), 8'sd(-1), 8'sd(-1), 8'sd(14), 8'sd(29), 8'sd(50), 8'sd(32), 8'sd(-5), 8'sd(-22), 8'sd(36), 8'sd(-5), 8'sd(42), 8'sd(-17), 8'sd(-5), 8'sd(31), 8'sd(19), 8'sd(7), 8'sd(-10), 8'sd(1), 8'sd(26), 8'sd(-8), 8'sd(-6), 8'sd(2), 8'sd(7), 8'sd(-3), 8'sd(0), 8'sd(-62), 8'sd(-48), 8'sd(-40), 8'sd(-28), 8'sd(-47), 8'sd(-35), 8'sd(-20), 8'sd(-32), 8'sd(-33), 8'sd(-13), 8'sd(-16), 8'sd(-4),<br>8'sd(-5), 8'sd(-3), 8'sd(8), 8'sd(34), 8'sd(37), 8'sd(30), 8'sd(-6), 8'sd(24), 8'sd(7), 8'sd(64), 8'sd(65), 8'sd(21), 8'sd(4), 8'sd(-3), 8'sd(10), 8'sd(20), 8'sd(42), 8'sd(48), 8'sd(23), 8'sd(-13), 8'sd(-3), 8'sd(12), 8'sd(23), 8'sd(12), 8'sd(12), 8'sd(23), 8'sd(3), 8'sd(-11), 8'sd(12), 8'sd(8), 8'sd(30), 8'sd(14), 8'sd(2), 8'sd(-36), 8'sd(-18), 8'sd(3), 8'sd(-29), 8'sd(-18), 8'sd(-7), 8'sd(7), 8'sd(-12), 8'sd(-23), 8'sd(18), 8'sd(31), 8'sd(8), 8'sd(17), 8'sd(-1), 8'sd(-2), 8'sd(-15), 8'sd(-28), 8'sd(-31), 8'sd(-32), 8'sd(-31), 8'sd(-10), 8'sd(-5), 8'sd(14), 8'sd(42), 8'sd(10), 8'sd(27), 8'sd(3), 8'sd(11), 8'sd(-25), 8'sd(-23), 8'sd(-6), 8'sd(4), 8'sd(-8), 8'sd(-7), 8'sd(-27), 8'sd(-29), 8'sd(-4), 8'sd(65), 8'sd(33), 8'sd(17), 8'sd(19), 8'sd(-1), 8'sd(-15), 8'sd(19), 8'sd(68), 8'sd(47), 8'sd(20), 8'sd(30), 8'sd(27), 8'sd(12), 8'sd(-11), 8'sd(53), 8'sd(42), 8'sd(11), 8'sd(1), 8'sd(3), 8'sd(2), 8'sd(-12), 8'sd(18), 8'sd(17), 8'sd(12), 8'sd(10), 8'sd(17), 8'sd(19), 8'sd(-10), 8'sd(29), 8'sd(31), 8'sd(10), 8'sd(13), 8'sd(8), 8'sd(1), 8'sd(-28), 8'sd(23), 8'sd(-7), 8'sd(21), 8'sd(24), 8'sd(32), 8'sd(-19), 8'sd(-66), 8'sd(-14), 8'sd(-19), 8'sd(-3), 8'sd(5), 8'sd(-14), 8'sd(-23), 8'sd(17), 8'sd(38), 8'sd(-16), 8'sd(14), 8'sd(19), 8'sd(1), 8'sd(-21), 8'sd(-18), 8'sd(26), 8'sd(-2), 8'sd(-24), 8'sd(-16), 8'sd(-3), 8'sd(0), 8'sd(44), 8'sd(23), 8'sd(-6), 8'sd(-13), 8'sd(-19), 8'sd(-47), 8'sd(-31), 8'sd(30), 8'sd(2), 8'sd(-81), 8'sd(-40), 8'sd(-19), 8'sd(1), 8'sd(15), 8'sd(18), 8'sd(19), 8'sd(-14), 8'sd(-39), 8'sd(-68), 8'sd(-103), 8'sd(-61), 8'sd(23), 8'sd(8), 8'sd(-62), 8'sd(20), 8'sd(14), 8'sd(-4), 8'sd(-8), 8'sd(-9), 8'sd(2), 8'sd(-15), 8'sd(-39), 8'sd(-56), 8'sd(-78), 8'sd(-19), 8'sd(31), 8'sd(4), 8'sd(-3), 8'sd(27), 8'sd(17), 8'sd(-10), 8'sd(-19), 8'sd(-21), 8'sd(-15), 8'sd(-26), 8'sd(-33), 8'sd(-27), 8'sd(-36), 8'sd(-8), 8'sd(31), 8'sd(-12), 8'sd(-10), 8'sd(-47), 8'sd(1), 8'sd(9), 8'sd(7), 8'sd(-5), 8'sd(-22), 8'sd(-28), 8'sd(-6), 8'sd(6), 8'sd(9), 8'sd(6), 8'sd(7),<br>8'sd(-5), 8'sd(-9), 8'sd(-1), 8'sd(25), 8'sd(46), 8'sd(47), 8'sd(41), 8'sd(-12), 8'sd(54), 8'sd(51), 8'sd(49), 8'sd(25), 8'sd(5), 8'sd(6), 8'sd(0), 8'sd(39), 8'sd(13), 8'sd(12), 8'sd(50), 8'sd(54), 8'sd(54), 8'sd(35), 8'sd(25), 8'sd(27), 8'sd(14), 8'sd(44), 8'sd(28), 8'sd(26), 8'sd(-3), 8'sd(5), 8'sd(-28), 8'sd(-18), 8'sd(-10), 8'sd(9), 8'sd(-3), 8'sd(2), 8'sd(23), 8'sd(26), 8'sd(28), 8'sd(24), 8'sd(7), 8'sd(34), 8'sd(5), 8'sd(-18), 8'sd(0), 8'sd(-3), 8'sd(-20), 8'sd(-15), 8'sd(-12), 8'sd(-8), 8'sd(-33), 8'sd(-14), 8'sd(-25), 8'sd(-7), 8'sd(24), 8'sd(23), 8'sd(1), 8'sd(7), 8'sd(-20), 8'sd(-4), 8'sd(-5), 8'sd(14), 8'sd(11), 8'sd(-17), 8'sd(-5), 8'sd(-8), 8'sd(-17), 8'sd(-39), 8'sd(24), 8'sd(-10), 8'sd(10), 8'sd(-10), 8'sd(0), 8'sd(19), 8'sd(-6), 8'sd(-16), 8'sd(-5), 8'sd(-16), 8'sd(-6), 8'sd(-6), 8'sd(-15), 8'sd(-22), 8'sd(49), 8'sd(5), 8'sd(-5), 8'sd(-6), 8'sd(-13), 8'sd(26), 8'sd(-3), 8'sd(-9), 8'sd(18), 8'sd(-36), 8'sd(-22), 8'sd(-5), 8'sd(-8), 8'sd(16), 8'sd(51), 8'sd(-9), 8'sd(7), 8'sd(11), 8'sd(11), 8'sd(21), 8'sd(25), 8'sd(28), 8'sd(30), 8'sd(-10), 8'sd(-7), 8'sd(-9), 8'sd(-1), 8'sd(15), 8'sd(65), 8'sd(14), 8'sd(-40), 8'sd(25), 8'sd(11), 8'sd(2), 8'sd(12), 8'sd(31), 8'sd(21), 8'sd(6), 8'sd(16), 8'sd(-4), 8'sd(2), 8'sd(31), 8'sd(51), 8'sd(4), 8'sd(-33), 8'sd(10), 8'sd(24), 8'sd(34), 8'sd(23), 8'sd(46), 8'sd(23), 8'sd(19), 8'sd(23), 8'sd(1), 8'sd(12), 8'sd(46), 8'sd(28), 8'sd(-42), 8'sd(12), 8'sd(48), 8'sd(29), 8'sd(18), 8'sd(40), 8'sd(40), 8'sd(43), 8'sd(21), 8'sd(11), 8'sd(17), 8'sd(11), 8'sd(49), 8'sd(-8), 8'sd(25), 8'sd(0), 8'sd(64), 8'sd(10), 8'sd(-12), 8'sd(18), 8'sd(22), 8'sd(2), 8'sd(13), 8'sd(1), 8'sd(3), 8'sd(9), 8'sd(29), 8'sd(1), 8'sd(28), 8'sd(-6), 8'sd(0), 8'sd(-47), 8'sd(-54), 8'sd(-64), 8'sd(-41), 8'sd(-28), 8'sd(-39), 8'sd(-32), 8'sd(-11), 8'sd(-6), 8'sd(18), 8'sd(22), 8'sd(-14), 8'sd(-9), 8'sd(-11), 8'sd(0), 8'sd(-42), 8'sd(-78), 8'sd(-23), 8'sd(-5), 8'sd(-33), 8'sd(-12), 8'sd(-19), 8'sd(-37), 8'sd(-20), 8'sd(-12), 8'sd(-8),<br>8'sd(-3), 8'sd(-6), 8'sd(-4), 8'sd(-10), 8'sd(27), 8'sd(21), 8'sd(13), 8'sd(32), 8'sd(-1), 8'sd(-9), 8'sd(-13), 8'sd(-10), 8'sd(8), 8'sd(9), 8'sd(-6), 8'sd(-13), 8'sd(11), 8'sd(-6), 8'sd(-9), 8'sd(-7), 8'sd(28), 8'sd(30), 8'sd(34), 8'sd(18), 8'sd(26), 8'sd(20), 8'sd(21), 8'sd(8), 8'sd(-8), 8'sd(-13), 8'sd(-23), 8'sd(-5), 8'sd(21), 8'sd(38), 8'sd(11), 8'sd(16), 8'sd(7), 8'sd(3), 8'sd(18), 8'sd(38), 8'sd(63), 8'sd(19), 8'sd(19), 8'sd(0), 8'sd(6), 8'sd(17), 8'sd(18), 8'sd(26), 8'sd(-3), 8'sd(-30), 8'sd(-9), 8'sd(4), 8'sd(2), 8'sd(-2), 8'sd(39), 8'sd(-1), 8'sd(26), 8'sd(-1), 8'sd(16), 8'sd(36), 8'sd(33), 8'sd(40), 8'sd(-28), 8'sd(-36), 8'sd(-1), 8'sd(5), 8'sd(-5), 8'sd(-21), 8'sd(20), 8'sd(-18), 8'sd(62), 8'sd(14), 8'sd(0), 8'sd(23), 8'sd(56), 8'sd(50), 8'sd(-66), 8'sd(-30), 8'sd(26), 8'sd(-10), 8'sd(-10), 8'sd(-18), 8'sd(-16), 8'sd(-27), 8'sd(65), 8'sd(22), 8'sd(33), 8'sd(44), 8'sd(38), 8'sd(19), 8'sd(-85), 8'sd(-30), 8'sd(18), 8'sd(0), 8'sd(3), 8'sd(18), 8'sd(-12), 8'sd(-37), 8'sd(43), 8'sd(12), 8'sd(36), 8'sd(44), 8'sd(52), 8'sd(7), 8'sd(-35), 8'sd(-57), 8'sd(5), 8'sd(8), 8'sd(-2), 8'sd(40), 8'sd(4), 8'sd(-36), 8'sd(3), 8'sd(-29), 8'sd(-4), 8'sd(21), 8'sd(43), 8'sd(9), 8'sd(-41), 8'sd(-38), 8'sd(-1), 8'sd(0), 8'sd(13), 8'sd(24), 8'sd(2), 8'sd(-41), 8'sd(19), 8'sd(16), 8'sd(-11), 8'sd(-10), 8'sd(10), 8'sd(10), 8'sd(-38), 8'sd(-7), 8'sd(12), 8'sd(32), 8'sd(31), 8'sd(18), 8'sd(0), 8'sd(-52), 8'sd(-20), 8'sd(-22), 8'sd(-2), 8'sd(-19), 8'sd(-9), 8'sd(-16), 8'sd(-14), 8'sd(8), 8'sd(47), 8'sd(31), 8'sd(31), 8'sd(-2), 8'sd(8), 8'sd(-25), 8'sd(6), 8'sd(-39), 8'sd(1), 8'sd(-20), 8'sd(-62), 8'sd(-39), 8'sd(-17), 8'sd(35), 8'sd(43), 8'sd(39), 8'sd(24), 8'sd(0), 8'sd(7), 8'sd(28), 8'sd(-6), 8'sd(27), 8'sd(6), 8'sd(-22), 8'sd(-33), 8'sd(-13), 8'sd(8), 8'sd(3), 8'sd(13), 8'sd(10), 8'sd(-1), 8'sd(4), 8'sd(-36), 8'sd(-8), 8'sd(9), 8'sd(3), 8'sd(6), 8'sd(5), 8'sd(33), 8'sd(7), 8'sd(14), 8'sd(5), 8'sd(33), 8'sd(44), 8'sd(42), 8'sd(20), 8'sd(-12), 8'sd(5),<br>8'sd(3), 8'sd(-5), 8'sd(9), 8'sd(2), 8'sd(0), 8'sd(4), 8'sd(-11), 8'sd(16), 8'sd(22), 8'sd(43), 8'sd(10), 8'sd(11), 8'sd(-3), 8'sd(1), 8'sd(12), 8'sd(12), 8'sd(27), 8'sd(30), 8'sd(19), 8'sd(36), 8'sd(46), 8'sd(42), 8'sd(33), 8'sd(39), 8'sd(27), 8'sd(-15), 8'sd(2), 8'sd(8), 8'sd(12), 8'sd(17), 8'sd(9), 8'sd(4), 8'sd(27), 8'sd(16), 8'sd(4), 8'sd(12), 8'sd(14), 8'sd(23), 8'sd(22), 8'sd(31), 8'sd(34), 8'sd(21), 8'sd(29), 8'sd(-3), 8'sd(15), 8'sd(16), 8'sd(21), 8'sd(17), 8'sd(12), 8'sd(23), 8'sd(20), 8'sd(8), 8'sd(24), 8'sd(19), 8'sd(20), 8'sd(7), 8'sd(12), 8'sd(15), 8'sd(14), 8'sd(14), 8'sd(14), 8'sd(14), 8'sd(36), 8'sd(28), 8'sd(9), 8'sd(6), 8'sd(-3), 8'sd(20), 8'sd(1), 8'sd(29), 8'sd(-13), 8'sd(59), 8'sd(10), 8'sd(5), 8'sd(-2), 8'sd(11), 8'sd(25), 8'sd(14), 8'sd(-12), 8'sd(-17), 8'sd(-25), 8'sd(-7), 8'sd(9), 8'sd(48), 8'sd(-11), 8'sd(20), 8'sd(-1), 8'sd(-24), 8'sd(-12), 8'sd(-19), 8'sd(12), 8'sd(12), 8'sd(-2), 8'sd(-6), 8'sd(-31), 8'sd(-57), 8'sd(-74), 8'sd(-6), 8'sd(16), 8'sd(-10), 8'sd(-20), 8'sd(-30), 8'sd(-29), 8'sd(-25), 8'sd(18), 8'sd(7), 8'sd(-11), 8'sd(-4), 8'sd(14), 8'sd(9), 8'sd(-13), 8'sd(-67), 8'sd(35), 8'sd(22), 8'sd(-2), 8'sd(-36), 8'sd(-55), 8'sd(3), 8'sd(16), 8'sd(-40), 8'sd(-36), 8'sd(14), 8'sd(7), 8'sd(15), 8'sd(-8), 8'sd(-58), 8'sd(48), 8'sd(39), 8'sd(18), 8'sd(-12), 8'sd(-32), 8'sd(-19), 8'sd(-27), 8'sd(-32), 8'sd(4), 8'sd(9), 8'sd(16), 8'sd(11), 8'sd(-39), 8'sd(-76), 8'sd(19), 8'sd(12), 8'sd(-6), 8'sd(10), 8'sd(3), 8'sd(14), 8'sd(22), 8'sd(27), 8'sd(11), 8'sd(37), 8'sd(27), 8'sd(20), 8'sd(-63), 8'sd(-30), 8'sd(7), 8'sd(43), 8'sd(14), 8'sd(9), 8'sd(-12), 8'sd(16), 8'sd(19), 8'sd(32), 8'sd(33), 8'sd(33), 8'sd(6), 8'sd(-2), 8'sd(-47), 8'sd(-14), 8'sd(5), 8'sd(60), 8'sd(0), 8'sd(21), 8'sd(34), 8'sd(31), 8'sd(58), 8'sd(40), 8'sd(31), 8'sd(8), 8'sd(-1), 8'sd(25), 8'sd(-2), 8'sd(-13), 8'sd(10), 8'sd(-9), 8'sd(-18), 8'sd(-19), 8'sd(13), 8'sd(33), 8'sd(35), 8'sd(34), 8'sd(72), 8'sd(60), 8'sd(42), 8'sd(48), 8'sd(9), 8'sd(-3),<br>8'sd(-5), 8'sd(-12), 8'sd(12), 8'sd(-3), 8'sd(-3), 8'sd(12), 8'sd(34), 8'sd(5), 8'sd(-21), 8'sd(29), 8'sd(1), 8'sd(0), 8'sd(4), 8'sd(3), 8'sd(4), 8'sd(-20), 8'sd(3), 8'sd(-8), 8'sd(-39), 8'sd(-22), 8'sd(5), 8'sd(-2), 8'sd(-1), 8'sd(12), 8'sd(-15), 8'sd(10), 8'sd(-17), 8'sd(-14), 8'sd(11), 8'sd(-14), 8'sd(-52), 8'sd(-45), 8'sd(-21), 8'sd(-27), 8'sd(20), 8'sd(4), 8'sd(2), 8'sd(-17), 8'sd(-1), 8'sd(-6), 8'sd(35), 8'sd(23), 8'sd(-18), 8'sd(-36), 8'sd(-25), 8'sd(-12), 8'sd(-22), 8'sd(13), 8'sd(26), 8'sd(-12), 8'sd(-43), 8'sd(-11), 8'sd(-6), 8'sd(9), 8'sd(43), 8'sd(27), 8'sd(-15), 8'sd(-41), 8'sd(-36), 8'sd(-25), 8'sd(-14), 8'sd(27), 8'sd(44), 8'sd(-34), 8'sd(-22), 8'sd(13), 8'sd(24), 8'sd(20), 8'sd(40), 8'sd(33), 8'sd(15), 8'sd(-35), 8'sd(-20), 8'sd(-20), 8'sd(-5), 8'sd(8), 8'sd(44), 8'sd(5), 8'sd(-7), 8'sd(6), 8'sd(0), 8'sd(20), 8'sd(15), 8'sd(23), 8'sd(-16), 8'sd(-20), 8'sd(-33), 8'sd(-3), 8'sd(-6), 8'sd(-10), 8'sd(45), 8'sd(10), 8'sd(-7), 8'sd(5), 8'sd(22), 8'sd(39), 8'sd(43), 8'sd(-44), 8'sd(7), 8'sd(18), 8'sd(-63), 8'sd(-25), 8'sd(-24), 8'sd(14), 8'sd(22), 8'sd(14), 8'sd(-12), 8'sd(-8), 8'sd(-21), 8'sd(-21), 8'sd(-7), 8'sd(-67), 8'sd(-16), 8'sd(-19), 8'sd(-47), 8'sd(-36), 8'sd(19), 8'sd(38), 8'sd(34), 8'sd(-22), 8'sd(-15), 8'sd(-13), 8'sd(-7), 8'sd(-13), 8'sd(-10), 8'sd(-44), 8'sd(-19), 8'sd(-34), 8'sd(-58), 8'sd(-17), 8'sd(34), 8'sd(42), 8'sd(14), 8'sd(-50), 8'sd(-18), 8'sd(-14), 8'sd(-5), 8'sd(5), 8'sd(-8), 8'sd(9), 8'sd(-2), 8'sd(-45), 8'sd(-46), 8'sd(3), 8'sd(18), 8'sd(23), 8'sd(-14), 8'sd(-8), 8'sd(-35), 8'sd(-18), 8'sd(1), 8'sd(2), 8'sd(-57), 8'sd(-20), 8'sd(14), 8'sd(-23), 8'sd(-34), 8'sd(-11), 8'sd(10), 8'sd(15), 8'sd(17), 8'sd(8), 8'sd(-3), 8'sd(-15), 8'sd(-23), 8'sd(-38), 8'sd(-13), 8'sd(-6), 8'sd(-10), 8'sd(-39), 8'sd(-19), 8'sd(-35), 8'sd(-6), 8'sd(26), 8'sd(19), 8'sd(9), 8'sd(-14), 8'sd(-26), 8'sd(-13), 8'sd(-23), 8'sd(-7), 8'sd(1), 8'sd(-7), 8'sd(-12), 8'sd(-36), 8'sd(-45), 8'sd(-44), 8'sd(-43), 8'sd(-41), 8'sd(-82), 8'sd(-57), 8'sd(-63), 8'sd(-60), 8'sd(25), 8'sd(13), 8'sd(10),<br>8'sd(2), 8'sd(-5), 8'sd(3), 8'sd(-25), 8'sd(-33), 8'sd(-46), 8'sd(-50), 8'sd(-9), 8'sd(-40), 8'sd(-67), 8'sd(-53), 8'sd(-23), 8'sd(4), 8'sd(6), 8'sd(-5), 8'sd(-31), 8'sd(-34), 8'sd(-55), 8'sd(-63), 8'sd(-56), 8'sd(-111), 8'sd(-65), 8'sd(-31), 8'sd(0), 8'sd(-28), 8'sd(-30), 8'sd(-21), 8'sd(-2), 8'sd(10), 8'sd(0), 8'sd(-28), 8'sd(-42), 8'sd(-60), 8'sd(-100), 8'sd(-96), 8'sd(-64), 8'sd(-36), 8'sd(-17), 8'sd(-20), 8'sd(-10), 8'sd(8), 8'sd(-21), 8'sd(16), 8'sd(59), 8'sd(-10), 8'sd(5), 8'sd(28), 8'sd(-7), 8'sd(-6), 8'sd(-8), 8'sd(2), 8'sd(0), 8'sd(10), 8'sd(-11), 8'sd(-17), 8'sd(10), 8'sd(25), 8'sd(7), 8'sd(11), 8'sd(14), 8'sd(27), 8'sd(56), 8'sd(59), 8'sd(24), 8'sd(-7), 8'sd(-3), 8'sd(3), 8'sd(5), 8'sd(-28), 8'sd(15), 8'sd(-11), 8'sd(35), 8'sd(-14), 8'sd(25), 8'sd(41), 8'sd(25), 8'sd(8), 8'sd(15), 8'sd(6), 8'sd(10), 8'sd(5), 8'sd(-31), 8'sd(-43), 8'sd(14), 8'sd(49), 8'sd(9), 8'sd(-16), 8'sd(12), 8'sd(-5), 8'sd(-10), 8'sd(-8), 8'sd(13), 8'sd(21), 8'sd(12), 8'sd(17), 8'sd(-28), 8'sd(-9), 8'sd(73), 8'sd(8), 8'sd(19), 8'sd(3), 8'sd(23), 8'sd(10), 8'sd(13), 8'sd(28), 8'sd(18), 8'sd(30), 8'sd(36), 8'sd(17), 8'sd(6), 8'sd(2), 8'sd(79), 8'sd(16), 8'sd(27), 8'sd(9), 8'sd(7), 8'sd(26), 8'sd(22), 8'sd(24), 8'sd(7), 8'sd(31), 8'sd(21), 8'sd(14), 8'sd(12), 8'sd(-19), 8'sd(58), 8'sd(-1), 8'sd(43), 8'sd(2), 8'sd(-29), 8'sd(-43), 8'sd(-36), 8'sd(-37), 8'sd(-16), 8'sd(-5), 8'sd(-3), 8'sd(2), 8'sd(15), 8'sd(-1), 8'sd(43), 8'sd(-10), 8'sd(25), 8'sd(-23), 8'sd(-42), 8'sd(-38), 8'sd(-42), 8'sd(-29), 8'sd(-33), 8'sd(-25), 8'sd(-33), 8'sd(-21), 8'sd(-23), 8'sd(6), 8'sd(-13), 8'sd(3), 8'sd(20), 8'sd(-13), 8'sd(-13), 8'sd(-14), 8'sd(0), 8'sd(-21), 8'sd(-36), 8'sd(-30), 8'sd(-39), 8'sd(-38), 8'sd(-30), 8'sd(-8), 8'sd(-16), 8'sd(9), 8'sd(7), 8'sd(58), 8'sd(39), 8'sd(3), 8'sd(6), 8'sd(0), 8'sd(-9), 8'sd(21), 8'sd(-5), 8'sd(10), 8'sd(16), 8'sd(15), 8'sd(29), 8'sd(-7), 8'sd(-7), 8'sd(-4), 8'sd(33), 8'sd(43), 8'sd(46), 8'sd(57), 8'sd(58), 8'sd(51), 8'sd(41), 8'sd(43), 8'sd(17), 8'sd(0), 8'sd(-1),<br>8'sd(6), 8'sd(-5), 8'sd(-4), 8'sd(-4), 8'sd(11), 8'sd(22), 8'sd(12), 8'sd(11), 8'sd(13), 8'sd(16), 8'sd(2), 8'sd(13), 8'sd(-1), 8'sd(5), 8'sd(-9), 8'sd(-7), 8'sd(-37), 8'sd(-27), 8'sd(-5), 8'sd(-12), 8'sd(20), 8'sd(40), 8'sd(25), 8'sd(1), 8'sd(-3), 8'sd(-26), 8'sd(19), 8'sd(29), 8'sd(6), 8'sd(3), 8'sd(-24), 8'sd(-18), 8'sd(-1), 8'sd(-16), 8'sd(-1), 8'sd(4), 8'sd(-1), 8'sd(5), 8'sd(-5), 8'sd(6), 8'sd(-10), 8'sd(43), 8'sd(-23), 8'sd(33), 8'sd(19), 8'sd(15), 8'sd(4), 8'sd(11), 8'sd(22), 8'sd(30), 8'sd(18), 8'sd(17), 8'sd(26), 8'sd(5), 8'sd(5), 8'sd(8), 8'sd(47), 8'sd(2), 8'sd(11), 8'sd(5), 8'sd(25), 8'sd(15), 8'sd(39), 8'sd(47), 8'sd(28), 8'sd(1), 8'sd(-8), 8'sd(6), 8'sd(-11), 8'sd(-26), 8'sd(57), 8'sd(37), 8'sd(17), 8'sd(25), 8'sd(19), 8'sd(31), 8'sd(23), 8'sd(-16), 8'sd(-14), 8'sd(7), 8'sd(-6), 8'sd(-4), 8'sd(-16), 8'sd(-14), 8'sd(38), 8'sd(15), 8'sd(-14), 8'sd(15), 8'sd(-3), 8'sd(4), 8'sd(-51), 8'sd(-52), 8'sd(-15), 8'sd(-6), 8'sd(4), 8'sd(25), 8'sd(15), 8'sd(-21), 8'sd(8), 8'sd(-13), 8'sd(-2), 8'sd(-8), 8'sd(-23), 8'sd(-37), 8'sd(-42), 8'sd(-41), 8'sd(-36), 8'sd(-14), 8'sd(14), 8'sd(29), 8'sd(42), 8'sd(-3), 8'sd(-9), 8'sd(-31), 8'sd(18), 8'sd(-9), 8'sd(-36), 8'sd(-26), 8'sd(-79), 8'sd(-47), 8'sd(-8), 8'sd(4), 8'sd(12), 8'sd(6), 8'sd(-11), 8'sd(-1), 8'sd(27), 8'sd(-28), 8'sd(-20), 8'sd(-18), 8'sd(-30), 8'sd(-34), 8'sd(-69), 8'sd(9), 8'sd(21), 8'sd(14), 8'sd(13), 8'sd(-3), 8'sd(-13), 8'sd(-13), 8'sd(-1), 8'sd(-11), 8'sd(9), 8'sd(12), 8'sd(1), 8'sd(7), 8'sd(42), 8'sd(39), 8'sd(14), 8'sd(-12), 8'sd(-10), 8'sd(-7), 8'sd(42), 8'sd(13), 8'sd(-8), 8'sd(-48), 8'sd(-2), 8'sd(-9), 8'sd(27), 8'sd(35), 8'sd(26), 8'sd(38), 8'sd(22), 8'sd(-18), 8'sd(-6), 8'sd(1), 8'sd(-10), 8'sd(-17), 8'sd(-9), 8'sd(3), 8'sd(-11), 8'sd(4), 8'sd(29), 8'sd(-4), 8'sd(1), 8'sd(7), 8'sd(25), 8'sd(-6), 8'sd(10), 8'sd(-8), 8'sd(2), 8'sd(-2), 8'sd(11), 8'sd(-4), 8'sd(2), 8'sd(19), 8'sd(89), 8'sd(54), 8'sd(46), 8'sd(83), 8'sd(84), 8'sd(95), 8'sd(67), 8'sd(58), 8'sd(10), 8'sd(3),<br>8'sd(9), 8'sd(4), 8'sd(5), 8'sd(-14), 8'sd(-33), 8'sd(-24), 8'sd(-34), 8'sd(25), 8'sd(17), 8'sd(-48), 8'sd(-42), 8'sd(-21), 8'sd(12), 8'sd(12), 8'sd(-3), 8'sd(9), 8'sd(-6), 8'sd(-3), 8'sd(13), 8'sd(13), 8'sd(6), 8'sd(0), 8'sd(-8), 8'sd(-28), 8'sd(-54), 8'sd(-35), 8'sd(-15), 8'sd(-15), 8'sd(-1), 8'sd(7), 8'sd(24), 8'sd(35), 8'sd(5), 8'sd(27), 8'sd(22), 8'sd(7), 8'sd(-10), 8'sd(-27), 8'sd(-24), 8'sd(-46), 8'sd(-22), 8'sd(19), 8'sd(22), 8'sd(49), 8'sd(8), 8'sd(11), 8'sd(11), 8'sd(14), 8'sd(4), 8'sd(24), 8'sd(28), 8'sd(9), 8'sd(-18), 8'sd(-33), 8'sd(-32), 8'sd(-12), 8'sd(-28), 8'sd(15), 8'sd(21), 8'sd(20), 8'sd(10), 8'sd(-8), 8'sd(3), 8'sd(30), 8'sd(28), 8'sd(23), 8'sd(27), 8'sd(-7), 8'sd(-34), 8'sd(-5), 8'sd(-19), 8'sd(50), 8'sd(22), 8'sd(15), 8'sd(4), 8'sd(-21), 8'sd(9), 8'sd(39), 8'sd(15), 8'sd(28), 8'sd(51), 8'sd(35), 8'sd(-37), 8'sd(20), 8'sd(2), 8'sd(37), 8'sd(16), 8'sd(-14), 8'sd(-18), 8'sd(-19), 8'sd(3), 8'sd(48), 8'sd(35), 8'sd(28), 8'sd(38), 8'sd(4), 8'sd(-23), 8'sd(22), 8'sd(-4), 8'sd(10), 8'sd(-13), 8'sd(-22), 8'sd(-24), 8'sd(-20), 8'sd(10), 8'sd(32), 8'sd(4), 8'sd(26), 8'sd(-2), 8'sd(-31), 8'sd(-34), 8'sd(15), 8'sd(26), 8'sd(17), 8'sd(-4), 8'sd(-18), 8'sd(-3), 8'sd(10), 8'sd(27), 8'sd(6), 8'sd(5), 8'sd(-22), 8'sd(-29), 8'sd(-10), 8'sd(-34), 8'sd(4), 8'sd(30), 8'sd(-4), 8'sd(-18), 8'sd(-10), 8'sd(11), 8'sd(13), 8'sd(5), 8'sd(-14), 8'sd(-4), 8'sd(-9), 8'sd(-5), 8'sd(14), 8'sd(-12), 8'sd(33), 8'sd(-11), 8'sd(-14), 8'sd(1), 8'sd(7), 8'sd(-13), 8'sd(-22), 8'sd(-9), 8'sd(2), 8'sd(-1), 8'sd(7), 8'sd(2), 8'sd(-8), 8'sd(5), 8'sd(-18), 8'sd(10), 8'sd(24), 8'sd(-1), 8'sd(14), 8'sd(-4), 8'sd(0), 8'sd(-10), 8'sd(4), 8'sd(-8), 8'sd(0), 8'sd(9), 8'sd(21), 8'sd(4), 8'sd(-29), 8'sd(-12), 8'sd(14), 8'sd(36), 8'sd(27), 8'sd(4), 8'sd(22), 8'sd(20), 8'sd(2), 8'sd(25), 8'sd(18), 8'sd(21), 8'sd(1), 8'sd(-6), 8'sd(4), 8'sd(7), 8'sd(7), 8'sd(29), 8'sd(80), 8'sd(95), 8'sd(77), 8'sd(81), 8'sd(81), 8'sd(69), 8'sd(56), 8'sd(54), 8'sd(23), 8'sd(29), 8'sd(-9),<br>8'sd(-5), 8'sd(-12), 8'sd(-10), 8'sd(-46), 8'sd(-22), 8'sd(9), 8'sd(-19), 8'sd(-21), 8'sd(5), 8'sd(-53), 8'sd(-57), 8'sd(-24), 8'sd(7), 8'sd(-10), 8'sd(10), 8'sd(-12), 8'sd(2), 8'sd(24), 8'sd(32), 8'sd(76), 8'sd(19), 8'sd(19), 8'sd(6), 8'sd(-7), 8'sd(8), 8'sd(-41), 8'sd(18), 8'sd(5), 8'sd(-2), 8'sd(10), 8'sd(36), 8'sd(47), 8'sd(38), 8'sd(24), 8'sd(10), 8'sd(2), 8'sd(3), 8'sd(1), 8'sd(-7), 8'sd(7), 8'sd(-24), 8'sd(-30), 8'sd(31), 8'sd(50), 8'sd(66), 8'sd(28), 8'sd(1), 8'sd(10), 8'sd(37), 8'sd(9), 8'sd(-21), 8'sd(-23), 8'sd(-9), 8'sd(5), 8'sd(-42), 8'sd(-4), 8'sd(42), 8'sd(52), 8'sd(18), 8'sd(-29), 8'sd(-54), 8'sd(-39), 8'sd(1), 8'sd(25), 8'sd(7), 8'sd(8), 8'sd(0), 8'sd(-15), 8'sd(-17), 8'sd(-37), 8'sd(39), 8'sd(37), 8'sd(-68), 8'sd(-76), 8'sd(-75), 8'sd(-38), 8'sd(18), 8'sd(-8), 8'sd(16), 8'sd(6), 8'sd(6), 8'sd(-21), 8'sd(-46), 8'sd(-62), 8'sd(26), 8'sd(-28), 8'sd(-61), 8'sd(-28), 8'sd(1), 8'sd(38), 8'sd(22), 8'sd(-39), 8'sd(-25), 8'sd(-14), 8'sd(-41), 8'sd(-20), 8'sd(1), 8'sd(-9), 8'sd(39), 8'sd(18), 8'sd(10), 8'sd(16), 8'sd(27), 8'sd(29), 8'sd(-8), 8'sd(-30), 8'sd(-18), 8'sd(3), 8'sd(4), 8'sd(35), 8'sd(47), 8'sd(84), 8'sd(33), 8'sd(76), 8'sd(49), 8'sd(-10), 8'sd(3), 8'sd(-3), 8'sd(-9), 8'sd(-15), 8'sd(30), 8'sd(37), 8'sd(50), 8'sd(36), 8'sd(8), 8'sd(56), 8'sd(6), 8'sd(59), 8'sd(26), 8'sd(1), 8'sd(7), 8'sd(23), 8'sd(22), 8'sd(13), 8'sd(16), 8'sd(2), 8'sd(12), 8'sd(6), 8'sd(-15), 8'sd(16), 8'sd(18), 8'sd(59), 8'sd(10), 8'sd(-17), 8'sd(6), 8'sd(19), 8'sd(24), 8'sd(8), 8'sd(3), 8'sd(3), 8'sd(-3), 8'sd(-5), 8'sd(-23), 8'sd(18), 8'sd(-10), 8'sd(56), 8'sd(-3), 8'sd(7), 8'sd(1), 8'sd(16), 8'sd(-1), 8'sd(6), 8'sd(0), 8'sd(11), 8'sd(-19), 8'sd(-17), 8'sd(-20), 8'sd(-9), 8'sd(5), 8'sd(54), 8'sd(26), 8'sd(-6), 8'sd(0), 8'sd(-4), 8'sd(-3), 8'sd(-3), 8'sd(-5), 8'sd(-18), 8'sd(-16), 8'sd(-6), 8'sd(3), 8'sd(-17), 8'sd(9), 8'sd(-26), 8'sd(-26), 8'sd(-33), 8'sd(-27), 8'sd(-23), 8'sd(-18), 8'sd(-13), 8'sd(25), 8'sd(10), 8'sd(-18), 8'sd(-16), 8'sd(-10), 8'sd(-3),<br>8'sd(-2), 8'sd(1), 8'sd(-16), 8'sd(-13), 8'sd(-21), 8'sd(-30), 8'sd(-44), 8'sd(31), 8'sd(32), 8'sd(-58), 8'sd(-43), 8'sd(-18), 8'sd(-5), 8'sd(-8), 8'sd(3), 8'sd(32), 8'sd(18), 8'sd(-6), 8'sd(34), 8'sd(1), 8'sd(5), 8'sd(-13), 8'sd(6), 8'sd(-14), 8'sd(-28), 8'sd(-37), 8'sd(-16), 8'sd(3), 8'sd(1), 8'sd(24), 8'sd(57), 8'sd(19), 8'sd(5), 8'sd(16), 8'sd(8), 8'sd(-1), 8'sd(6), 8'sd(-6), 8'sd(7), 8'sd(19), 8'sd(-4), 8'sd(-24), 8'sd(47), 8'sd(4), 8'sd(-6), 8'sd(8), 8'sd(16), 8'sd(47), 8'sd(18), 8'sd(8), 8'sd(21), 8'sd(26), 8'sd(15), 8'sd(8), 8'sd(0), 8'sd(11), 8'sd(39), 8'sd(7), 8'sd(-4), 8'sd(12), 8'sd(21), 8'sd(33), 8'sd(21), 8'sd(16), 8'sd(4), 8'sd(6), 8'sd(-11), 8'sd(3), 8'sd(-33), 8'sd(19), 8'sd(-6), 8'sd(-45), 8'sd(-32), 8'sd(-20), 8'sd(-33), 8'sd(-54), 8'sd(-74), 8'sd(-10), 8'sd(-29), 8'sd(-56), 8'sd(-64), 8'sd(-52), 8'sd(-15), 8'sd(26), 8'sd(24), 8'sd(-43), 8'sd(-111), 8'sd(-120), 8'sd(-110), 8'sd(-91), 8'sd(-36), 8'sd(9), 8'sd(-19), 8'sd(-10), 8'sd(-27), 8'sd(-49), 8'sd(-3), 8'sd(52), 8'sd(-33), 8'sd(-19), 8'sd(-28), 8'sd(-30), 8'sd(-6), 8'sd(-1), 8'sd(56), 8'sd(38), 8'sd(9), 8'sd(26), 8'sd(17), 8'sd(14), 8'sd(12), 8'sd(49), 8'sd(-28), 8'sd(3), 8'sd(24), 8'sd(30), 8'sd(28), 8'sd(20), 8'sd(36), 8'sd(19), 8'sd(5), 8'sd(0), 8'sd(11), 8'sd(-5), 8'sd(29), 8'sd(50), 8'sd(-10), 8'sd(16), 8'sd(25), 8'sd(26), 8'sd(30), 8'sd(12), 8'sd(19), 8'sd(5), 8'sd(7), 8'sd(10), 8'sd(5), 8'sd(3), 8'sd(78), 8'sd(40), 8'sd(-11), 8'sd(14), 8'sd(36), 8'sd(19), 8'sd(13), 8'sd(12), 8'sd(15), 8'sd(20), 8'sd(4), 8'sd(1), 8'sd(7), 8'sd(-7), 8'sd(33), 8'sd(25), 8'sd(3), 8'sd(-34), 8'sd(46), 8'sd(9), 8'sd(-15), 8'sd(-4), 8'sd(3), 8'sd(-15), 8'sd(-4), 8'sd(-26), 8'sd(-12), 8'sd(-7), 8'sd(22), 8'sd(33), 8'sd(9), 8'sd(-31), 8'sd(7), 8'sd(0), 8'sd(5), 8'sd(-10), 8'sd(2), 8'sd(-4), 8'sd(-23), 8'sd(-25), 8'sd(-22), 8'sd(-30), 8'sd(0), 8'sd(27), 8'sd(9), 8'sd(-12), 8'sd(-26), 8'sd(3), 8'sd(27), 8'sd(25), 8'sd(-10), 8'sd(15), 8'sd(-17), 8'sd(-10), 8'sd(-32), 8'sd(-16), 8'sd(13), 8'sd(-9),<br>};<br></span>"
            ]
          },
          "metadata": {}
        },
        {
          "output_type": "stream",
          "name": "stdout",
          "text": [
            "Layer 3 - Array Shape/Range: Weights = (32, 10), Biases = (10,)\n",
            "Quantizing to +/- 127, scaling by 47.93230189623906\n"
          ]
        },
        {
          "output_type": "display_data",
          "data": {
            "text/plain": [
              "<IPython.core.display.HTML object>"
            ],
            "text/html": [
              "<style>.nowrap{white-space:nowrap;}</style><span class='nowrap'>localparam signed B_ARRAY_L3 [8*10-1:0] = { 8'sd(-17), 8'sd(13), 8'sd(-4), 8'sd(6), 8'sd(3), 8'sd(7), 8'sd(-9), 8'sd(-3), 8'sd(-10), 8'sd(9) };</span>"
            ]
          },
          "metadata": {}
        },
        {
          "output_type": "display_data",
          "data": {
            "text/plain": [
              "<IPython.core.display.HTML object>"
            ],
            "text/html": [
              "<style>.nowrap{white-space:nowrap;}</style><span class='nowrap'>localparam signed W_ARRAY_L3 [8*10*32-1:0] = {<br>8'sd(-40), 8'sd(13), 8'sd(-9), 8'sd(-1), 8'sd(-16), 8'sd(11), 8'sd(16), 8'sd(21), 8'sd(-4), 8'sd(-2), 8'sd(-60), 8'sd(17), 8'sd(23), 8'sd(16), 8'sd(-64), 8'sd(-27), 8'sd(35), 8'sd(-35), 8'sd(11), 8'sd(-68), 8'sd(-19), 8'sd(-58), 8'sd(-4), 8'sd(22), 8'sd(19), 8'sd(2), 8'sd(-9), 8'sd(-20), 8'sd(31), 8'sd(-6), 8'sd(25), 8'sd(-70),<br>8'sd(-1), 8'sd(-66), 8'sd(-50), 8'sd(-25), 8'sd(10), 8'sd(-50), 8'sd(17), 8'sd(23), 8'sd(-24), 8'sd(-22), 8'sd(9), 8'sd(42), 8'sd(-48), 8'sd(14), 8'sd(41), 8'sd(-79), 8'sd(-38), 8'sd(-29), 8'sd(21), 8'sd(15), 8'sd(-14), 8'sd(30), 8'sd(25), 8'sd(-12), 8'sd(-15), 8'sd(1), 8'sd(27), 8'sd(-68), 8'sd(36), 8'sd(1), 8'sd(-40), 8'sd(37),<br>8'sd(73), 8'sd(3), 8'sd(-41), 8'sd(37), 8'sd(27), 8'sd(-25), 8'sd(-57), 8'sd(7), 8'sd(11), 8'sd(-7), 8'sd(-31), 8'sd(40), 8'sd(28), 8'sd(5), 8'sd(31), 8'sd(34), 8'sd(3), 8'sd(-23), 8'sd(-11), 8'sd(28), 8'sd(-45), 8'sd(5), 8'sd(-23), 8'sd(13), 8'sd(-76), 8'sd(-21), 8'sd(-6), 8'sd(25), 8'sd(2), 8'sd(1), 8'sd(26), 8'sd(13),<br>8'sd(-14), 8'sd(-24), 8'sd(4), 8'sd(-18), 8'sd(-2), 8'sd(-50), 8'sd(-35), 8'sd(-61), 8'sd(-2), 8'sd(-14), 8'sd(36), 8'sd(26), 8'sd(-10), 8'sd(-27), 8'sd(-53), 8'sd(2), 8'sd(-32), 8'sd(-19), 8'sd(1), 8'sd(-12), 8'sd(10), 8'sd(35), 8'sd(-20), 8'sd(-5), 8'sd(-31), 8'sd(37), 8'sd(-90), 8'sd(38), 8'sd(-11), 8'sd(26), 8'sd(28), 8'sd(-8),<br>8'sd(-74), 8'sd(-3), 8'sd(11), 8'sd(52), 8'sd(-2), 8'sd(-2), 8'sd(16), 8'sd(21), 8'sd(-34), 8'sd(-49), 8'sd(29), 8'sd(-38), 8'sd(-69), 8'sd(49), 8'sd(17), 8'sd(14), 8'sd(-89), 8'sd(-3), 8'sd(-39), 8'sd(-10), 8'sd(28), 8'sd(-19), 8'sd(-36), 8'sd(-12), 8'sd(34), 8'sd(-49), 8'sd(47), 8'sd(12), 8'sd(-53), 8'sd(-20), 8'sd(27), 8'sd(-33),<br>8'sd(-13), 8'sd(-48), 8'sd(27), 8'sd(26), 8'sd(-30), 8'sd(-14), 8'sd(-8), 8'sd(-91), 8'sd(-41), 8'sd(92), 8'sd(-5), 8'sd(-73), 8'sd(24), 8'sd(-55), 8'sd(1), 8'sd(-21), 8'sd(18), 8'sd(24), 8'sd(-18), 8'sd(42), 8'sd(19), 8'sd(8), 8'sd(26), 8'sd(23), 8'sd(22), 8'sd(13), 8'sd(-18), 8'sd(13), 8'sd(11), 8'sd(-33), 8'sd(-10), 8'sd(35),<br>8'sd(-19), 8'sd(16), 8'sd(-1), 8'sd(-24), 8'sd(9), 8'sd(50), 8'sd(38), 8'sd(-7), 8'sd(-71), 8'sd(-50), 8'sd(-74), 8'sd(-66), 8'sd(17), 8'sd(-16), 8'sd(23), 8'sd(28), 8'sd(47), 8'sd(-73), 8'sd(-18), 8'sd(12), 8'sd(-24), 8'sd(16), 8'sd(29), 8'sd(25), 8'sd(11), 8'sd(-21), 8'sd(25), 8'sd(-54), 8'sd(-24), 8'sd(-25), 8'sd(-6), 8'sd(-23),<br>8'sd(15), 8'sd(-14), 8'sd(7), 8'sd(-69), 8'sd(-6), 8'sd(-43), 8'sd(-28), 8'sd(29), 8'sd(13), 8'sd(8), 8'sd(-3), 8'sd(47), 8'sd(-65), 8'sd(20), 8'sd(-51), 8'sd(1), 8'sd(-13), 8'sd(19), 8'sd(-49), 8'sd(-13), 8'sd(-15), 8'sd(-37), 8'sd(39), 8'sd(-83), 8'sd(44), 8'sd(-23), 8'sd(14), 8'sd(37), 8'sd(36), 8'sd(6), 8'sd(9), 8'sd(57),<br>8'sd(-28), 8'sd(1), 8'sd(7), 8'sd(26), 8'sd(3), 8'sd(23), 8'sd(-62), 8'sd(7), 8'sd(16), 8'sd(-18), 8'sd(2), 8'sd(-36), 8'sd(15), 8'sd(9), 8'sd(-3), 8'sd(-15), 8'sd(18), 8'sd(30), 8'sd(18), 8'sd(-8), 8'sd(-11), 8'sd(15), 8'sd(-40), 8'sd(8), 8'sd(-18), 8'sd(2), 8'sd(30), 8'sd(-39), 8'sd(-74), 8'sd(19), 8'sd(-39), 8'sd(-34),<br>8'sd(-127), 8'sd(16), 8'sd(5), 8'sd(-77), 8'sd(-101), 8'sd(-8), 8'sd(12), 8'sd(12), 8'sd(25), 8'sd(11), 8'sd(16), 8'sd(-11), 8'sd(0), 8'sd(-43), 8'sd(21), 8'sd(21), 8'sd(-24), 8'sd(-12), 8'sd(19), 8'sd(10), 8'sd(28), 8'sd(-21), 8'sd(-44), 8'sd(-33), 8'sd(25), 8'sd(-16), 8'sd(-66), 8'sd(18), 8'sd(-1), 8'sd(35), 8'sd(-60), 8'sd(-101),<br>};<br></span>"
            ]
          },
          "metadata": {}
        }
      ],
      "source": [
        "# Quantize and Export the weights\n",
        "n_bit               = 8            # Number of bits to quantize to\n",
        "quantized_wb        = [0,0,0,0]\n",
        "quantized_wb_scale  = [0,0,0,0]\n",
        "\n",
        "print(model_s_nn.layers)\n",
        "\n",
        "for l,layer in enumerate(model_s_nn.layers):\n",
        "    if len(layer.weights)>0:\n",
        "        w,b = layer.weights\n",
        "        w,b = w.numpy(), b.numpy()\n",
        "        print('Layer {} - Array Shape/Range: Weights = {}, Biases = {}'.format(l, w.shape, b.shape))\n",
        "        w_q, w_qi, scale = quantize_nbit(w, n_bit, verbose=1)\n",
        "        b_q, b_qi, _     = quantize_nbit(b, n_bit, use_scale=scale)\n",
        "\n",
        "        # Print the scaled values\n",
        "        num_w, num_neuron = w.shape\n",
        "\n",
        "        # Print the Biases as an V parameter array\n",
        "        s = \"localparam signed B_ARRAY_L{} [{}*{}-1:0] = {{ {} }};\".format(l, n_bit, num_neuron, ', '.join(\"8'sd(\"+str(int(e))+\")\" for e in b_qi))\n",
        "        print_nowrap(s)\n",
        "\n",
        "        # Print Weights as an V parameter array\n",
        "        s = \"localparam signed W_ARRAY_L{} [{}*{}*{}-1:0] = {{<br>\".format(l, n_bit, num_neuron, len(w_qi[:,0]))\n",
        "        for n in range(num_neuron) :\n",
        "            # Note: you can change\n",
        "            #s += \"Layer {}, Neuron {}, Bias = {}, Weights = {}<br>\".format(l, n, int(b_qi[n]), ', '.join(str(int(e)) for e in w_qi[:,n]))\n",
        "            #s += \"bias_l{}[{}] = {}; weight_l{}[{}] = {{ {} }}<br>\".format(l, n, int(b_qi[n]), l, n, ', '.join(str(int(e)) for e in w_qi[:,n]))\n",
        "            s += \"{},<br>\".format(', '.join(\"8'sd(\"+str(int(e))+\")\" for e in w_qi[:,n]))\n",
        "        #s = s[0:-5] # remove last comma\n",
        "        s += \"};<br>\"\n",
        "        print_nowrap(s)\n",
        "\n",
        "\n",
        "        # Save the quantized weights/bias for use later\n",
        "        quantized_wb[l]       = (w_qi, b_qi)\n",
        "        quantized_wb_scale[l] = (w_q,  b_q)\n",
        ""
      ]
    },
    {
      "cell_type": "markdown",
      "metadata": {
        "id": "5bTRb7IW1g1E"
      },
      "source": [
        "The weights and biases are available above and can be added to the Verilog code."
      ]
    },
    {
      "cell_type": "markdown",
      "metadata": {
        "id": "WkPJ7iiW1g1E"
      },
      "source": [
        "## Creation of test vectors"
      ]
    },
    {
      "cell_type": "markdown",
      "metadata": {
        "id": "j-Jr3xDB1g1F"
      },
      "source": [
        "This function transform images in test vectors to be used in the Verilog code."
      ]
    },
    {
      "cell_type": "code",
      "execution_count": 8,
      "metadata": {
        "id": "zE3XXP6j1g1F"
      },
      "outputs": [],
      "source": [
        "# Write data out in the form\n",
        "# logic signed [7:0] data [0:N-1] = {0, 0, 0, 0, 0, 0, 0, 0, 0, 0, 0, 0, 0, 0, 0, 0, 0, 0, 0, 0, 0, 0, 0, 0, 0, 0, 0, 0, 0, 0, 0, 0, 0, 0, 0, 0, 0, 0, 37, 4, 0, 0, 0, 0, 53, 0, 0, 0, 0, 0, 0, 0, 82, 9, 0, 0, 0, 0, 95, 0, 0, 0, 0, 0, 0, 26, 98, 0, 0, 0, 0, 20, 102, 0, 0, 0, 0, 0, 0, 56, 73, 0, 0, 0, 0, 39, 86, 0, 0, 0, 0, 1, 32, 114, 40, 0, 0, 0, 0, 38, 103, 51, 63, 83, 91, 89, 55, 121, 4, 0, 0, 0, 0, 0, 36, 44, 44, 19, 0, 0, 33, 107, 0, 0, 0, 0, 0, 0, 0, 0, 0, 0, 0, 0, 42, 77, 0, 0, 0, 0, 0, 0, 0, 0, 0, 0, 0, 0, 42, 87, 0, 0, 0, 0, 0, 0, 0, 0, 0, 0, 0, 0, 42, 101, 0, 0, 0, 0, 0, 0, 0, 0, 0, 0, 0, 0, 11, 50, 0, 0, 0, 0, 0, 0, 0, 0, 0, 0, 0, 0, 0, 0, 0, 0, 0, 0};\n",
        "def test_data_to_verilog(n_bit, data, show_img=0, suffix=''):\n",
        "\n",
        "    # Input data - Flatten into 1-d vector\n",
        "    m_output = data.reshape(1, np.prod(data.shape))\n",
        "    m_output = m_output[0]\n",
        "\n",
        "    # check the output shape is 1D\n",
        "    if m_output.shape[0] != m_output.size:\n",
        "        print('Error: Model output is not 1D. Check the model and layer requested')\n",
        "\n",
        "    # Show the image if requested\n",
        "    if show_img:\n",
        "        plt.subplot(111)\n",
        "        dim=int(np.sqrt(m_output.size))\n",
        "        plt.imshow(m_output.reshape(dim,dim), cmap='Greys')\n",
        "        plt.show()\n",
        "\n",
        "    # Quantize\n",
        "    data_q, data_qi, scale = quantize_nbit(m_output, n_bit)\n",
        "\n",
        "    # Print this arry to verilog\n",
        "    s = \"logic signed [{}:0] test_data{} [0:{}] = '{{ {} }};\".format(n_bit-1, suffix, data_qi.size-1, ', '.join(str(int(e)) for e in data_qi))\n",
        "    print_nowrap(s)\n",
        "\n",
        "    return data_q, data_qi"
      ]
    },
    {
      "cell_type": "code",
      "execution_count": 9,
      "metadata": {
        "colab": {
          "base_uri": "https://localhost:8080/",
          "height": 467
        },
        "id": "oi7TC6l81g1F",
        "outputId": "3ecb604e-2501-446f-e13d-75015f0f22e0"
      },
      "outputs": [
        {
          "output_type": "display_data",
          "data": {
            "text/plain": [
              "<Figure size 640x480 with 1 Axes>"
            ],
            "image/png": "[encoded data removed]"
          },
          "metadata": {}
        },
        {
          "output_type": "display_data",
          "data": {
            "text/plain": [
              "<IPython.core.display.HTML object>"
            ],
            "text/html": [
              "<style>.nowrap{white-space:nowrap;}</style><span class='nowrap'>logic signed [7:0] test_data [0:783] = '{ 0, 0, 0, 0, 0, 0, 0, 0, 0, 0, 0, 0, 0, 0, 0, 0, 0, 0, 0, 0, 0, 0, 0, 0, 0, 0, 0, 0, 0, 0, 0, 0, 0, 0, 0, 0, 0, 0, 0, 0, 0, 0, 0, 0, 0, 0, 0, 0, 0, 0, 0, 0, 0, 0, 0, 0, 0, 0, 0, 0, 0, 0, 0, 0, 0, 0, 0, 0, 0, 0, 0, 0, 0, 0, 0, 0, 0, 0, 0, 0, 0, 0, 0, 0, 0, 0, 0, 0, 0, 0, 0, 0, 0, 0, 0, 0, 0, 0, 0, 0, 0, 0, 0, 0, 0, 0, 0, 0, 0, 0, 0, 0, 0, 0, 0, 0, 0, 0, 0, 0, 0, 0, 0, 0, 0, 0, 0, 0, 0, 0, 0, 0, 0, 0, 0, 0, 0, 0, 0, 0, 0, 0, 0, 0, 0, 0, 0, 0, 0, 0, 0, 0, 0, 0, 0, 0, 0, 0, 0, 0, 33, 116, 19, 0, 0, 0, 0, 0, 0, 0, 0, 0, 31, 40, 0, 0, 0, 0, 0, 0, 0, 0, 0, 0, 0, 0, 0, 0, 60, 90, 19, 0, 0, 0, 0, 0, 0, 0, 0, 0, 63, 81, 0, 0, 0, 0, 0, 0, 0, 0, 0, 0, 0, 0, 0, 1, 76, 105, 20, 0, 0, 0, 0, 0, 0, 0, 0, 0, 110, 81, 0, 0, 0, 0, 0, 0, 0, 0, 0, 0, 0, 0, 0, 13, 127, 81, 0, 0, 0, 0, 0, 0, 0, 0, 0, 0, 111, 81, 0, 0, 0, 0, 0, 0, 0, 0, 0, 0, 0, 0, 0, 91, 127, 62, 0, 0, 0, 0, 0, 0, 0, 0, 0, 23, 122, 81, 0, 0, 0, 0, 0, 0, 0, 0, 0, 0, 0, 0, 0, 99, 127, 28, 0, 0, 0, 0, 0, 0, 0, 0, 0, 60, 127, 81, 0, 0, 0, 0, 0, 0, 0, 0, 0, 0, 0, 0, 11, 115, 127, 14, 0, 0, 0, 0, 0, 0, 0, 0, 0, 79, 127, 60, 0, 0, 0, 0, 0, 0, 0, 0, 0, 0, 0, 0, 81, 127, 108, 8, 0, 0, 0, 0, 0, 0, 0, 0, 0, 79, 127, 33, 0, 0, 0, 0, 0, 0, 0, 0, 0, 7, 43, 89, 124, 127, 45, 0, 0, 0, 0, 0, 0, 0, 0, 0, 0, 79, 127, 42, 0, 0, 0, 23, 24, 58, 72, 75, 120, 121, 117, 89, 120, 126, 20, 0, 0, 0, 0, 0, 0, 0, 0, 0, 0, 75, 126, 118, 103, 103, 103, 126, 127, 125, 120, 99, 71, 45, 14, 2, 116, 125, 0, 0, 0, 0, 0, 0, 0, 0, 0, 0, 0, 0, 59, 88, 88, 88, 88, 88, 49, 28, 0, 0, 0, 0, 0, 51, 127, 110, 0, 0, 0, 0, 0, 0, 0, 0, 0, 0, 0, 0, 0, 0, 0, 0, 0, 0, 0, 0, 0, 0, 0, 0, 0, 84, 127, 68, 0, 0, 0, 0, 0, 0, 0, 0, 0, 0, 0, 0, 0, 0, 0, 0, 0, 0, 0, 0, 0, 0, 0, 0, 0, 84, 127, 28, 0, 0, 0, 0, 0, 0, 0, 0, 0, 0, 0, 0, 0, 0, 0, 0, 0, 0, 0, 0, 0, 0, 0, 0, 0, 84, 127, 28, 0, 0, 0, 0, 0, 0, 0, 0, 0, 0, 0, 0, 0, 0, 0, 0, 0, 0, 0, 0, 0, 0, 0, 0, 0, 84, 127, 47, 0, 0, 0, 0, 0, 0, 0, 0, 0, 0, 0, 0, 0, 0, 0, 0, 0, 0, 0, 0, 0, 0, 0, 0, 0, 84, 127, 48, 0, 0, 0, 0, 0, 0, 0, 0, 0, 0, 0, 0, 0, 0, 0, 0, 0, 0, 0, 0, 0, 0, 0, 0, 0, 84, 127, 76, 0, 0, 0, 0, 0, 0, 0, 0, 0, 0, 0, 0, 0, 0, 0, 0, 0, 0, 0, 0, 0, 0, 0, 0, 0, 84, 127, 76, 0, 0, 0, 0, 0, 0, 0, 0, 0, 0, 0, 0, 0, 0, 0, 0, 0, 0, 0, 0, 0, 0, 0, 0, 0, 48, 127, 76, 0, 0, 0, 0, 0, 0, 0, 0, 0, 0, 0, 0, 0, 0, 0, 0, 0, 0, 0, 0, 0, 0, 0, 0, 0, 0, 0, 0, 0, 0, 0, 0, 0, 0, 0, 0, 0, 0, 0, 0, 0, 0, 0, 0, 0, 0, 0, 0, 0, 0, 0, 0, 0, 0, 0, 0, 0, 0, 0, 0, 0, 0, 0, 0, 0, 0, 0, 0, 0, 0, 0, 0, 0, 0, 0, 0, 0, 0, 0, 0, 0, 0, 0, 0, 0, 0, 0, 0, 0, 0, 0, 0 };</span>"
            ]
          },
          "metadata": {}
        }
      ],
      "source": [
        "test_data, test_data_int = test_data_to_verilog(8,x_train[2],show_img=1)"
      ]
    },
    {
      "cell_type": "code",
      "source": [],
      "metadata": {
        "id": "U-zCqyoY6T6f"
      },
      "execution_count": null,
      "outputs": []
    }
  ],
  "metadata": {
    "kernelspec": {
      "display_name": "Python 3",
      "name": "python3"
    },
    "language_info": {
      "codemirror_mode": {
        "name": "ipython",
        "version": 3
      },
      "file_extension": ".py",
      "mimetype": "text/x-python",
      "name": "python",
      "nbconvert_exporter": "python",
      "pygments_lexer": "ipython3",
      "version": "3.10.11"
    },
    "vscode": {
      "interpreter": {
        "hash": "12fa2b87cac659b457be56b1f9fd9f19d0e5d67b8aa1ffabf71ca4ccf3ec44db"
      }
    },
    "colab": {
      "provenance": [],
      "gpuType": "T4",
      "include_colab_link": true
    },
    "accelerator": "GPU"
  },
  "nbformat": 4,
  "nbformat_minor": 0
}